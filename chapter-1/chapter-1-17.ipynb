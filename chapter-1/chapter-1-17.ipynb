{
 "cells": [
  {
   "cell_type": "markdown",
   "metadata": {},
   "source": [
    "1.17 正则表达式"
   ]
  },
  {
   "cell_type": "code",
   "execution_count": 1,
   "metadata": {},
   "outputs": [
    {
     "name": "stdout",
     "output_type": "stream",
     "text": [
      "\\nHello World\n",
      "\n",
      "Hello World\n"
     ]
    }
   ],
   "source": [
    "# 在正则表达式前加 'r' 以防止转义\n",
    "print(r\"\\nHello World\")\n",
    "# 不加 'r' 时，'\\n' 将被转义成换行符\n",
    "print(\"\\nHello World\")"
   ]
  },
  {
   "cell_type": "code",
   "execution_count": 5,
   "metadata": {},
   "outputs": [
    {
     "name": "stdout",
     "output_type": "stream",
     "text": [
      "None\n",
      "<re.Match object; span=(0, 5), match='World'>\n",
      "<re.Match object; span=(6, 11), match='World'>\n",
      "<re.Match object; span=(0, 5), match='World'>\n"
     ]
    }
   ],
   "source": [
    "import re\n",
    "# 定义规则\n",
    "# 为简单起见，我们先不使用任何模式\n",
    "regex = r\"World\"\n",
    "\n",
    "# 定义两个字符串\n",
    "str1 = \"Hello World Hello World\"\n",
    "str2 = \"World Hello World Hello\"\n",
    "\n",
    "# 测试 re.match()\n",
    "print(re.match(regex, str1))    # 由于 World 不在字符串的开头，无法匹配到 World\n",
    "print(re.match(regex, str2))   # 当 World 在字符串的开头时，可以匹配到 World\n",
    "\n",
    "# 测试 re.search()\n",
    "# 不管 World 出现在哪里，都可以成功匹配\n",
    "print(re.search(regex, str1))\n",
    "print(re.search(regex, str2))"
   ]
  },
  {
   "cell_type": "code",
   "execution_count": 7,
   "metadata": {},
   "outputs": [
    {
     "name": "stdout",
     "output_type": "stream",
     "text": [
      "<re.Match object; span=(0, 5), match='World'>\n",
      "<re.Match object; span=(0, 5), match='World'>\n"
     ]
    }
   ],
   "source": [
    "# 使用 re.compile() 进行预编译\n",
    "# 当我们执行上面的代码时，实际上是先将 regex 编译好，再执行 re.match() 或 re.search()\n",
    "# 因此，我们也可以预先编译好表达式，避免执行隐式转换\n",
    "# 实际上，由于 re.compile() 自带缓存，进行预编译并不能提升效率\n",
    "import re\n",
    "\n",
    "regex = r\"World\"\n",
    "pattern = re.compile(regex)\n",
    "\n",
    "# 定义两个字符串\n",
    "str1 = \"World Hello World Hello\"\n",
    "\n",
    "print(re.match(pattern, str1))\n",
    "print(re.search(pattern, str1))"
   ]
  },
  {
   "cell_type": "code",
   "execution_count": 11,
   "metadata": {},
   "outputs": [
    {
     "name": "stdout",
     "output_type": "stream",
     "text": [
      "(0, 11)\n",
      "(0, 11)\n",
      "Hello World\n",
      "Hello World\n"
     ]
    },
    {
     "ename": "IndexError",
     "evalue": "no such group",
     "output_type": "error",
     "traceback": [
      "\u001b[0;31m---------------------------------------------------------------------------\u001b[0m",
      "\u001b[0;31mIndexError\u001b[0m                                Traceback (most recent call last)",
      "\u001b[0;32m<ipython-input-11-e146290b7e01>\u001b[0m in \u001b[0;36m<module>\u001b[0;34m\u001b[0m\n\u001b[1;32m     23\u001b[0m \u001b[0;31m# print(re.match(regex, \"\").group())\u001b[0m\u001b[0;34m\u001b[0m\u001b[0;34m\u001b[0m\u001b[0;34m\u001b[0m\u001b[0m\n\u001b[1;32m     24\u001b[0m \u001b[0;34m\u001b[0m\u001b[0m\n\u001b[0;32m---> 25\u001b[0;31m \u001b[0mprint\u001b[0m\u001b[0;34m(\u001b[0m\u001b[0mre\u001b[0m\u001b[0;34m.\u001b[0m\u001b[0mmatch\u001b[0m\u001b[0;34m(\u001b[0m\u001b[0mregex\u001b[0m\u001b[0;34m,\u001b[0m \u001b[0mstr1\u001b[0m\u001b[0;34m)\u001b[0m\u001b[0;34m.\u001b[0m\u001b[0mgroup\u001b[0m\u001b[0;34m(\u001b[0m\u001b[0;36m1\u001b[0m\u001b[0;34m)\u001b[0m\u001b[0;34m)\u001b[0m\u001b[0;34m\u001b[0m\u001b[0;34m\u001b[0m\u001b[0m\n\u001b[0m\u001b[1;32m     26\u001b[0m \u001b[0mprint\u001b[0m\u001b[0;34m(\u001b[0m\u001b[0mre\u001b[0m\u001b[0;34m.\u001b[0m\u001b[0msearch\u001b[0m\u001b[0;34m(\u001b[0m\u001b[0mregex\u001b[0m\u001b[0;34m,\u001b[0m \u001b[0mstr1\u001b[0m\u001b[0;34m)\u001b[0m\u001b[0;34m.\u001b[0m\u001b[0mgroup\u001b[0m\u001b[0;34m(\u001b[0m\u001b[0;36m2\u001b[0m\u001b[0;34m)\u001b[0m\u001b[0;34m)\u001b[0m\u001b[0;34m\u001b[0m\u001b[0;34m\u001b[0m\u001b[0m\n",
      "\u001b[0;31mIndexError\u001b[0m: no such group"
     ]
    }
   ],
   "source": [
    "# span() 与 group()\n",
    "import re\n",
    "\n",
    "regex = r\"Hello World\"\n",
    "\n",
    "# 定义字符串\n",
    "str1 = \"Hello World Hello World\"\n",
    "\n",
    "# span()，返回匹配字符的下标范围\n",
    "print(re.match(regex, str1).span())\n",
    "print(re.search(regex, str1).span())\n",
    "\n",
    "# 假如没有匹配成功的话，调用 span() 会报错\n",
    "# AttributeError: 'NoneType' object has no attribute 'span'\n",
    "# print(re.match(regex, \"\").span())\n",
    "\n",
    "# group()，返回匹配字符\n",
    "print(re.match(regex, str1).group())\n",
    "print(re.search(regex, str1).group())\n",
    "\n",
    "# 假如没有匹配成功的话，调用 group() 会报错\n",
    "# AttributeError: 'NoneType' object has no attribute 'group'\n",
    "# print(re.match(regex, \"\").group())"
   ]
  },
  {
   "cell_type": "code",
   "execution_count": 76,
   "metadata": {},
   "outputs": [
    {
     "name": "stdout",
     "output_type": "stream",
     "text": [
      "['Hello World', 'Hello World']\n",
      "<re.Match object; span=(0, 11), match='Hello World'>\n",
      "<re.Match object; span=(12, 23), match='Hello World'>\n",
      "['hh']\n"
     ]
    }
   ],
   "source": [
    "import re\n",
    "\n",
    "# 使用 re.findall() 匹配多次\n",
    "regex = r\"Hello World\"\n",
    "print(re.findall(regex, \"Hello World Hello World\"))\n",
    "\n",
    "# 使用 re.finditer() 匹配多次\n",
    "it = re.finditer(regex,  \"Hello World Hello World\")\n",
    "for ele in it:\n",
    "    print(ele)\n",
    "    \n",
    "# 需要注意，下面这段代码只能匹配出一个 hh\n",
    "regex = r\"hh\"\n",
    "sentence = \"hhh\"\n",
    "print(re.findall(regex, sentence))   "
   ]
  },
  {
   "cell_type": "code",
   "execution_count": 22,
   "metadata": {},
   "outputs": [
    {
     "name": "stdout",
     "output_type": "stream",
     "text": [
      "Small Data Small Data\n",
      "Big Data Big Data\n"
     ]
    }
   ],
   "source": [
    "# 使用 re.sub() 替换\n",
    "import re\n",
    "\n",
    "regex = r\"Small\"\n",
    "str1 = \"Small Data Small Data\"\n",
    "\n",
    "str2 = re.sub(regex, \"Big\", str1)\n",
    "print(str1)\n",
    "print(str2)"
   ]
  },
  {
   "cell_type": "markdown",
   "metadata": {},
   "source": [
    "1.17.1 正则表达式模式"
   ]
  },
  {
   "cell_type": "code",
   "execution_count": 26,
   "metadata": {},
   "outputs": [
    {
     "name": "stdout",
     "output_type": "stream",
     "text": [
      "<re.Match object; span=(6, 11), match='World'>\n",
      "None\n",
      "<re.Match object; span=(0, 5), match='Hello'>\n",
      "None\n",
      "None\n",
      "None\n"
     ]
    }
   ],
   "source": [
    "import re\n",
    "\n",
    "str1 = \"Hello World\"\n",
    "\n",
    "# ^，匹配字符串的开头\n",
    "regex1 = r\"World\"\n",
    "regex2 = r\"^World\"\n",
    "\n",
    "print(re.search(regex1, str1))\n",
    "print(re.search(regex2, str1))   # 因为 World 不在文件开头，所以不能匹配\n",
    "\n",
    "# $，匹配字符串的末尾\n",
    "regex1 = r\"Hello\"\n",
    "regex2 = r\"Hello$\"\n",
    "\n",
    "print(re.search(regex1, str1))\n",
    "print(re.search(regex2, str1))   # 因为 Hello 不在文件末尾，所以不能匹配\n",
    "\n",
    "# 用 search() 来实现 match()\n",
    "# 但效率上可能会有区别\n",
    "regex1 = r\"^World\"\n",
    "regex2 = r\"World\"\n",
    "print(re.search(regex1, str1))\n",
    "print(re.match(regex2, str1))"
   ]
  },
  {
   "cell_type": "code",
   "execution_count": 38,
   "metadata": {},
   "outputs": [
    {
     "name": "stdout",
     "output_type": "stream",
     "text": [
      "['E', 'd', 'd', 'i', 'e']\n",
      "['i', 'd']\n",
      "['b', 'g', ' ', 'a', 't', 'a']\n",
      "['a', 'b', 'c']\n",
      "['A', '_', 'z']\n"
     ]
    },
    {
     "ename": "error",
     "evalue": "bad character range z-A at position 1",
     "output_type": "error",
     "traceback": [
      "\u001b[0;31m---------------------------------------------------------------------------\u001b[0m",
      "\u001b[0;31merror\u001b[0m                                     Traceback (most recent call last)",
      "\u001b[0;32m<ipython-input-38-bce7a115882d>\u001b[0m in \u001b[0;36m<module>\u001b[0;34m\u001b[0m\n\u001b[1;32m     34\u001b[0m \u001b[0mregex\u001b[0m \u001b[0;34m=\u001b[0m \u001b[0;34mr\"[z-A]\"\u001b[0m\u001b[0;34m\u001b[0m\u001b[0;34m\u001b[0m\u001b[0m\n\u001b[1;32m     35\u001b[0m \u001b[0msentence\u001b[0m \u001b[0;34m=\u001b[0m \u001b[0;34m\"A _ z\"\u001b[0m\u001b[0;34m\u001b[0m\u001b[0;34m\u001b[0m\u001b[0m\n\u001b[0;32m---> 36\u001b[0;31m \u001b[0mprint\u001b[0m\u001b[0;34m(\u001b[0m\u001b[0mre\u001b[0m\u001b[0;34m.\u001b[0m\u001b[0mfindall\u001b[0m\u001b[0;34m(\u001b[0m\u001b[0mregex\u001b[0m\u001b[0;34m,\u001b[0m \u001b[0msentence\u001b[0m\u001b[0;34m)\u001b[0m\u001b[0;34m)\u001b[0m\u001b[0;34m\u001b[0m\u001b[0;34m\u001b[0m\u001b[0m\n\u001b[0m",
      "\u001b[0;32m/usr/local/Cellar/python/3.7.2_2/Frameworks/Python.framework/Versions/3.7/lib/python3.7/re.py\u001b[0m in \u001b[0;36mfindall\u001b[0;34m(pattern, string, flags)\u001b[0m\n\u001b[1;32m    221\u001b[0m \u001b[0;34m\u001b[0m\u001b[0m\n\u001b[1;32m    222\u001b[0m     Empty matches are included in the result.\"\"\"\n\u001b[0;32m--> 223\u001b[0;31m     \u001b[0;32mreturn\u001b[0m \u001b[0m_compile\u001b[0m\u001b[0;34m(\u001b[0m\u001b[0mpattern\u001b[0m\u001b[0;34m,\u001b[0m \u001b[0mflags\u001b[0m\u001b[0;34m)\u001b[0m\u001b[0;34m.\u001b[0m\u001b[0mfindall\u001b[0m\u001b[0;34m(\u001b[0m\u001b[0mstring\u001b[0m\u001b[0;34m)\u001b[0m\u001b[0;34m\u001b[0m\u001b[0;34m\u001b[0m\u001b[0m\n\u001b[0m\u001b[1;32m    224\u001b[0m \u001b[0;34m\u001b[0m\u001b[0m\n\u001b[1;32m    225\u001b[0m \u001b[0;32mdef\u001b[0m \u001b[0mfinditer\u001b[0m\u001b[0;34m(\u001b[0m\u001b[0mpattern\u001b[0m\u001b[0;34m,\u001b[0m \u001b[0mstring\u001b[0m\u001b[0;34m,\u001b[0m \u001b[0mflags\u001b[0m\u001b[0;34m=\u001b[0m\u001b[0;36m0\u001b[0m\u001b[0;34m)\u001b[0m\u001b[0;34m:\u001b[0m\u001b[0;34m\u001b[0m\u001b[0;34m\u001b[0m\u001b[0m\n",
      "\u001b[0;32m/usr/local/Cellar/python/3.7.2_2/Frameworks/Python.framework/Versions/3.7/lib/python3.7/re.py\u001b[0m in \u001b[0;36m_compile\u001b[0;34m(pattern, flags)\u001b[0m\n\u001b[1;32m    284\u001b[0m     \u001b[0;32mif\u001b[0m \u001b[0;32mnot\u001b[0m \u001b[0msre_compile\u001b[0m\u001b[0;34m.\u001b[0m\u001b[0misstring\u001b[0m\u001b[0;34m(\u001b[0m\u001b[0mpattern\u001b[0m\u001b[0;34m)\u001b[0m\u001b[0;34m:\u001b[0m\u001b[0;34m\u001b[0m\u001b[0;34m\u001b[0m\u001b[0m\n\u001b[1;32m    285\u001b[0m         \u001b[0;32mraise\u001b[0m \u001b[0mTypeError\u001b[0m\u001b[0;34m(\u001b[0m\u001b[0;34m\"first argument must be string or compiled pattern\"\u001b[0m\u001b[0;34m)\u001b[0m\u001b[0;34m\u001b[0m\u001b[0;34m\u001b[0m\u001b[0m\n\u001b[0;32m--> 286\u001b[0;31m     \u001b[0mp\u001b[0m \u001b[0;34m=\u001b[0m \u001b[0msre_compile\u001b[0m\u001b[0;34m.\u001b[0m\u001b[0mcompile\u001b[0m\u001b[0;34m(\u001b[0m\u001b[0mpattern\u001b[0m\u001b[0;34m,\u001b[0m \u001b[0mflags\u001b[0m\u001b[0;34m)\u001b[0m\u001b[0;34m\u001b[0m\u001b[0;34m\u001b[0m\u001b[0m\n\u001b[0m\u001b[1;32m    287\u001b[0m     \u001b[0;32mif\u001b[0m \u001b[0;32mnot\u001b[0m \u001b[0;34m(\u001b[0m\u001b[0mflags\u001b[0m \u001b[0;34m&\u001b[0m \u001b[0mDEBUG\u001b[0m\u001b[0;34m)\u001b[0m\u001b[0;34m:\u001b[0m\u001b[0;34m\u001b[0m\u001b[0;34m\u001b[0m\u001b[0m\n\u001b[1;32m    288\u001b[0m         \u001b[0;32mif\u001b[0m \u001b[0mlen\u001b[0m\u001b[0;34m(\u001b[0m\u001b[0m_cache\u001b[0m\u001b[0;34m)\u001b[0m \u001b[0;34m>=\u001b[0m \u001b[0m_MAXCACHE\u001b[0m\u001b[0;34m:\u001b[0m\u001b[0;34m\u001b[0m\u001b[0;34m\u001b[0m\u001b[0m\n",
      "\u001b[0;32m/usr/local/Cellar/python/3.7.2_2/Frameworks/Python.framework/Versions/3.7/lib/python3.7/sre_compile.py\u001b[0m in \u001b[0;36mcompile\u001b[0;34m(p, flags)\u001b[0m\n\u001b[1;32m    762\u001b[0m     \u001b[0;32mif\u001b[0m \u001b[0misstring\u001b[0m\u001b[0;34m(\u001b[0m\u001b[0mp\u001b[0m\u001b[0;34m)\u001b[0m\u001b[0;34m:\u001b[0m\u001b[0;34m\u001b[0m\u001b[0;34m\u001b[0m\u001b[0m\n\u001b[1;32m    763\u001b[0m         \u001b[0mpattern\u001b[0m \u001b[0;34m=\u001b[0m \u001b[0mp\u001b[0m\u001b[0;34m\u001b[0m\u001b[0;34m\u001b[0m\u001b[0m\n\u001b[0;32m--> 764\u001b[0;31m         \u001b[0mp\u001b[0m \u001b[0;34m=\u001b[0m \u001b[0msre_parse\u001b[0m\u001b[0;34m.\u001b[0m\u001b[0mparse\u001b[0m\u001b[0;34m(\u001b[0m\u001b[0mp\u001b[0m\u001b[0;34m,\u001b[0m \u001b[0mflags\u001b[0m\u001b[0;34m)\u001b[0m\u001b[0;34m\u001b[0m\u001b[0;34m\u001b[0m\u001b[0m\n\u001b[0m\u001b[1;32m    765\u001b[0m     \u001b[0;32melse\u001b[0m\u001b[0;34m:\u001b[0m\u001b[0;34m\u001b[0m\u001b[0;34m\u001b[0m\u001b[0m\n\u001b[1;32m    766\u001b[0m         \u001b[0mpattern\u001b[0m \u001b[0;34m=\u001b[0m \u001b[0;32mNone\u001b[0m\u001b[0;34m\u001b[0m\u001b[0;34m\u001b[0m\u001b[0m\n",
      "\u001b[0;32m/usr/local/Cellar/python/3.7.2_2/Frameworks/Python.framework/Versions/3.7/lib/python3.7/sre_parse.py\u001b[0m in \u001b[0;36mparse\u001b[0;34m(str, flags, pattern)\u001b[0m\n\u001b[1;32m    928\u001b[0m \u001b[0;34m\u001b[0m\u001b[0m\n\u001b[1;32m    929\u001b[0m     \u001b[0;32mtry\u001b[0m\u001b[0;34m:\u001b[0m\u001b[0;34m\u001b[0m\u001b[0;34m\u001b[0m\u001b[0m\n\u001b[0;32m--> 930\u001b[0;31m         \u001b[0mp\u001b[0m \u001b[0;34m=\u001b[0m \u001b[0m_parse_sub\u001b[0m\u001b[0;34m(\u001b[0m\u001b[0msource\u001b[0m\u001b[0;34m,\u001b[0m \u001b[0mpattern\u001b[0m\u001b[0;34m,\u001b[0m \u001b[0mflags\u001b[0m \u001b[0;34m&\u001b[0m \u001b[0mSRE_FLAG_VERBOSE\u001b[0m\u001b[0;34m,\u001b[0m \u001b[0;36m0\u001b[0m\u001b[0;34m)\u001b[0m\u001b[0;34m\u001b[0m\u001b[0;34m\u001b[0m\u001b[0m\n\u001b[0m\u001b[1;32m    931\u001b[0m     \u001b[0;32mexcept\u001b[0m \u001b[0mVerbose\u001b[0m\u001b[0;34m:\u001b[0m\u001b[0;34m\u001b[0m\u001b[0;34m\u001b[0m\u001b[0m\n\u001b[1;32m    932\u001b[0m         \u001b[0;31m# the VERBOSE flag was switched on inside the pattern.  to be\u001b[0m\u001b[0;34m\u001b[0m\u001b[0;34m\u001b[0m\u001b[0;34m\u001b[0m\u001b[0m\n",
      "\u001b[0;32m/usr/local/Cellar/python/3.7.2_2/Frameworks/Python.framework/Versions/3.7/lib/python3.7/sre_parse.py\u001b[0m in \u001b[0;36m_parse_sub\u001b[0;34m(source, state, verbose, nested)\u001b[0m\n\u001b[1;32m    424\u001b[0m     \u001b[0;32mwhile\u001b[0m \u001b[0;32mTrue\u001b[0m\u001b[0;34m:\u001b[0m\u001b[0;34m\u001b[0m\u001b[0;34m\u001b[0m\u001b[0m\n\u001b[1;32m    425\u001b[0m         itemsappend(_parse(source, state, verbose, nested + 1,\n\u001b[0;32m--> 426\u001b[0;31m                            not nested and not items))\n\u001b[0m\u001b[1;32m    427\u001b[0m         \u001b[0;32mif\u001b[0m \u001b[0;32mnot\u001b[0m \u001b[0msourcematch\u001b[0m\u001b[0;34m(\u001b[0m\u001b[0;34m\"|\"\u001b[0m\u001b[0;34m)\u001b[0m\u001b[0;34m:\u001b[0m\u001b[0;34m\u001b[0m\u001b[0;34m\u001b[0m\u001b[0m\n\u001b[1;32m    428\u001b[0m             \u001b[0;32mbreak\u001b[0m\u001b[0;34m\u001b[0m\u001b[0;34m\u001b[0m\u001b[0m\n",
      "\u001b[0;32m/usr/local/Cellar/python/3.7.2_2/Frameworks/Python.framework/Versions/3.7/lib/python3.7/sre_parse.py\u001b[0m in \u001b[0;36m_parse\u001b[0;34m(source, state, verbose, nested, first)\u001b[0m\n\u001b[1;32m    578\u001b[0m                     \u001b[0;32mif\u001b[0m \u001b[0mhi\u001b[0m \u001b[0;34m<\u001b[0m \u001b[0mlo\u001b[0m\u001b[0;34m:\u001b[0m\u001b[0;34m\u001b[0m\u001b[0;34m\u001b[0m\u001b[0m\n\u001b[1;32m    579\u001b[0m                         \u001b[0mmsg\u001b[0m \u001b[0;34m=\u001b[0m \u001b[0;34m\"bad character range %s-%s\"\u001b[0m \u001b[0;34m%\u001b[0m \u001b[0;34m(\u001b[0m\u001b[0mthis\u001b[0m\u001b[0;34m,\u001b[0m \u001b[0mthat\u001b[0m\u001b[0;34m)\u001b[0m\u001b[0;34m\u001b[0m\u001b[0;34m\u001b[0m\u001b[0m\n\u001b[0;32m--> 580\u001b[0;31m                         \u001b[0;32mraise\u001b[0m \u001b[0msource\u001b[0m\u001b[0;34m.\u001b[0m\u001b[0merror\u001b[0m\u001b[0;34m(\u001b[0m\u001b[0mmsg\u001b[0m\u001b[0;34m,\u001b[0m \u001b[0mlen\u001b[0m\u001b[0;34m(\u001b[0m\u001b[0mthis\u001b[0m\u001b[0;34m)\u001b[0m \u001b[0;34m+\u001b[0m \u001b[0;36m1\u001b[0m \u001b[0;34m+\u001b[0m \u001b[0mlen\u001b[0m\u001b[0;34m(\u001b[0m\u001b[0mthat\u001b[0m\u001b[0;34m)\u001b[0m\u001b[0;34m)\u001b[0m\u001b[0;34m\u001b[0m\u001b[0;34m\u001b[0m\u001b[0m\n\u001b[0m\u001b[1;32m    581\u001b[0m                     \u001b[0msetappend\u001b[0m\u001b[0;34m(\u001b[0m\u001b[0;34m(\u001b[0m\u001b[0mRANGE\u001b[0m\u001b[0;34m,\u001b[0m \u001b[0;34m(\u001b[0m\u001b[0mlo\u001b[0m\u001b[0;34m,\u001b[0m \u001b[0mhi\u001b[0m\u001b[0;34m)\u001b[0m\u001b[0;34m)\u001b[0m\u001b[0;34m)\u001b[0m\u001b[0;34m\u001b[0m\u001b[0;34m\u001b[0m\u001b[0m\n\u001b[1;32m    582\u001b[0m                 \u001b[0;32melse\u001b[0m\u001b[0;34m:\u001b[0m\u001b[0;34m\u001b[0m\u001b[0;34m\u001b[0m\u001b[0m\n",
      "\u001b[0;31merror\u001b[0m: bad character range z-A at position 1"
     ]
    }
   ],
   "source": [
    "import re\n",
    "\n",
    "# .，匹配除了换行符的任意字符，当 re.DOTALL 标记被指定时，则可以匹配包括换行符的任意字符\n",
    "regex = r\".\"\n",
    "sentence = \"Eddie\\n\"\n",
    "print(re.findall(regex, sentence))\n",
    "\n",
    "# [...]，用来表示一组字符\n",
    "regex = r\"[eid]\"    # 匹配 e 或 i 或 d\n",
    "sentence = \"big data\"\n",
    "print(re.findall(regex, sentence))\n",
    "\n",
    "# [^...]，不在[]中的字符\n",
    "regex = r\"[^eid]\"    # 匹配 e、i、d 以外的字符\n",
    "sentence = \"big data\"\n",
    "print(re.findall(regex, sentence))\n",
    "\n",
    "# 缩写\n",
    "# [0-9] 表示匹配任何数字\n",
    "# [a-z] 表示匹配任何小写字母\n",
    "# [A-Z] 表示匹配任何大写字母\n",
    "# [a-zA-Z0-9] 表示匹配任何字母及数字\n",
    "# [^0-9]，表示匹配除了数字外的字符（同理可得 [^a-z]、[^A-Z]、[^a-zA-Z0-9]）\n",
    "# 缩写可自行指定范围\n",
    "regex = r\"[a-l]\"\n",
    "sentence = \"a b c x y z\"\n",
    "print(re.findall(regex, sentence))\n",
    "\n",
    "# 实际上是 Ascii 码的范围\n",
    "regex = r\"[A-z]\"    # 表示从 A 到 z 的所有字符\n",
    "sentence = \"A _ z\"    # A 的 Ascii 码为 65；_ 的 Ascii 码为 95；z 的 Ascii 码为 122\n",
    "print(re.findall(regex, sentence))\n",
    "# 范围不正确的时候会报错（必须是正序）\n",
    "regex = r\"[z-A]\"\n",
    "sentence = \"A _ z\"\n",
    "print(re.findall(regex, sentence))"
   ]
  },
  {
   "cell_type": "code",
   "execution_count": 48,
   "metadata": {},
   "outputs": [
    {
     "name": "stdout",
     "output_type": "stream",
     "text": [
      "['hello', 'hell', 'hellooo']\n",
      "['hello', 'hellooo']\n",
      "['hell', 'hell', 'hell']\n",
      "['hello', 'hello']\n",
      "['hello', 'hello']\n",
      "['hello', 'hellooo']\n",
      "['hello', 'hellooo']\n"
     ]
    }
   ],
   "source": [
    "import re\n",
    "\n",
    "# re*，匹配 0 个或多个的表达式\n",
    "regex = r\"hello*\"    # * 跟在 o 后面，表示匹配 0 或多个 o\n",
    "sentence = \"hello, hell, hellooo\"\n",
    "print(re.findall(regex, sentence))\n",
    "\n",
    "# re+，匹配 1 个或多个的表达式\n",
    "regex = r\"hello+\"    # + 跟在 o 后面，表示匹配 1 或多个 o\n",
    "sentence = \"hello, hell, hellooo\"\n",
    "print(re.findall(regex, sentence))\n",
    "\n",
    "# re?，匹配 0 个或 1 个由前面的正则表达式定义的片段，非贪婪方式\n",
    "# ? 表示懒惰模式，需要搭配 + 或 * 使用\n",
    "sentence = \"hello, hell, hellooo\"\n",
    "print(re.findall(r\"hello*?\", sentence))\n",
    "print(re.findall(r\"hello+?\", sentence))\n",
    "\n",
    "# re{n}，匹配 n 个前面表达式\n",
    "regex = r\"hello{1}\"    # 精确匹配一个 o\n",
    "sentence = \"hello, hell, hellooo\"\n",
    "print(re.findall(regex, sentence))\n",
    "\n",
    "# re{n,}，精确匹配 n 个前面表达式\n",
    "regex = r\"hello{1,}\"    # 匹配一个 o 或多个 o\n",
    "sentence = \"hello, hell, hellooo\"\n",
    "print(re.findall(regex, sentence))\n",
    "\n",
    "# re{n, m}，匹配 n 到 m 次由前面的正则表达式定义的片段，贪婪方式\n",
    "regex = r\"hello{1,3}\"    # 匹配一个到三个 o：所谓贪婪即能匹配三个就不会只匹配两个\n",
    "sentence = \"hello, hell, hellooo\"\n",
    "print(re.findall(regex, sentence))"
   ]
  },
  {
   "cell_type": "code",
   "execution_count": 67,
   "metadata": {},
   "outputs": [
    {
     "name": "stdout",
     "output_type": "stream",
     "text": [
      "['co', 'ame']\n",
      "[<re.Match object; span=(0, 4), match='come'>, <re.Match object; span=(6, 10), match='came'>]\n",
      "['o', 'a']\n",
      "come\n",
      "('o',)\n",
      "come\n",
      "o\n"
     ]
    },
    {
     "ename": "IndexError",
     "evalue": "no such group",
     "output_type": "error",
     "traceback": [
      "\u001b[0;31m---------------------------------------------------------------------------\u001b[0m",
      "\u001b[0;31mIndexError\u001b[0m                                Traceback (most recent call last)",
      "\u001b[0;32m<ipython-input-67-c7ae37177d13>\u001b[0m in \u001b[0;36m<module>\u001b[0;34m\u001b[0m\n\u001b[1;32m     22\u001b[0m \u001b[0mprint\u001b[0m\u001b[0;34m(\u001b[0m\u001b[0mre\u001b[0m\u001b[0;34m.\u001b[0m\u001b[0mmatch\u001b[0m\u001b[0;34m(\u001b[0m\u001b[0mregex\u001b[0m\u001b[0;34m,\u001b[0m \u001b[0msentence\u001b[0m\u001b[0;34m)\u001b[0m\u001b[0;34m.\u001b[0m\u001b[0mgroup\u001b[0m\u001b[0;34m(\u001b[0m\u001b[0;36m0\u001b[0m\u001b[0;34m)\u001b[0m\u001b[0;34m)\u001b[0m\u001b[0;34m\u001b[0m\u001b[0;34m\u001b[0m\u001b[0m\n\u001b[1;32m     23\u001b[0m \u001b[0mprint\u001b[0m\u001b[0;34m(\u001b[0m\u001b[0mre\u001b[0m\u001b[0;34m.\u001b[0m\u001b[0mmatch\u001b[0m\u001b[0;34m(\u001b[0m\u001b[0mregex\u001b[0m\u001b[0;34m,\u001b[0m \u001b[0msentence\u001b[0m\u001b[0;34m)\u001b[0m\u001b[0;34m.\u001b[0m\u001b[0mgroup\u001b[0m\u001b[0;34m(\u001b[0m\u001b[0;36m1\u001b[0m\u001b[0;34m)\u001b[0m\u001b[0;34m)\u001b[0m\u001b[0;34m\u001b[0m\u001b[0;34m\u001b[0m\u001b[0m\n\u001b[0;32m---> 24\u001b[0;31m \u001b[0mprint\u001b[0m\u001b[0;34m(\u001b[0m\u001b[0mre\u001b[0m\u001b[0;34m.\u001b[0m\u001b[0mmatch\u001b[0m\u001b[0;34m(\u001b[0m\u001b[0mregex\u001b[0m\u001b[0;34m,\u001b[0m \u001b[0msentence\u001b[0m\u001b[0;34m)\u001b[0m\u001b[0;34m.\u001b[0m\u001b[0mgroup\u001b[0m\u001b[0;34m(\u001b[0m\u001b[0;36m2\u001b[0m\u001b[0;34m)\u001b[0m\u001b[0;34m)\u001b[0m\u001b[0;34m\u001b[0m\u001b[0;34m\u001b[0m\u001b[0m\n\u001b[0m",
      "\u001b[0;31mIndexError\u001b[0m: no such group"
     ]
    }
   ],
   "source": [
    "# a | b，匹配 a 或 b\n",
    "regex = r\"co|ame\"    # 匹配 co 或 ame\n",
    "sentence = \"come, came, cme\"\n",
    "print(re.findall(regex, sentence))\n",
    "\n",
    "# (re)，匹配括号内的表达式，也表示一个组\n",
    "regex = r\"c(o|a)me\"    # 匹配 o 或 a，近似于 r\"c[oa]me\"\n",
    "sentence = \"come, came, cme\"\n",
    "print(list(re.finditer(regex, sentence)))\n",
    "# 由于我们使用了括号，代表我们将 (o|a) 视为一个组\n",
    "# 因此，我们使用 findall 时仅会返回组内的文本\n",
    "print(re.findall(regex, sentence))\n",
    "\n",
    "# 为了应对上述情况，我们将详细介绍 group() 与 groups()\n",
    "regex = r\"c(o|a)me\"\n",
    "sentence = \"come\"\n",
    "# 调用 group()\n",
    "print(re.match(regex, sentence).group())\n",
    "# 调用 groups()\n",
    "print(re.match(regex, sentence).groups())\n",
    "# 调用 group(index)\n",
    "print(re.match(regex, sentence).group(0))\n",
    "print(re.match(regex, sentence).group(1))\n",
    "print(re.match(regex, sentence).group(2))"
   ]
  },
  {
   "cell_type": "code",
   "execution_count": 74,
   "metadata": {},
   "outputs": [
    {
     "name": "stdout",
     "output_type": "stream",
     "text": [
      "[('c', 'o', 'me'), ('c', 'a', 'me')]\n",
      "[<re.Match object; span=(0, 4), match='come'>, <re.Match object; span=(6, 10), match='came'>]\n",
      "come\n",
      "('c', 'o', 'me')\n",
      "come\n",
      "c\n",
      "o\n",
      "me\n"
     ]
    },
    {
     "ename": "IndexError",
     "evalue": "no such group",
     "output_type": "error",
     "traceback": [
      "\u001b[0;31m---------------------------------------------------------------------------\u001b[0m",
      "\u001b[0;31mIndexError\u001b[0m                                Traceback (most recent call last)",
      "\u001b[0;32m<ipython-input-74-7b3a77e17b7c>\u001b[0m in \u001b[0;36m<module>\u001b[0;34m\u001b[0m\n\u001b[1;32m     19\u001b[0m \u001b[0mprint\u001b[0m\u001b[0;34m(\u001b[0m\u001b[0mre\u001b[0m\u001b[0;34m.\u001b[0m\u001b[0mmatch\u001b[0m\u001b[0;34m(\u001b[0m\u001b[0mregex\u001b[0m\u001b[0;34m,\u001b[0m \u001b[0msentence\u001b[0m\u001b[0;34m)\u001b[0m\u001b[0;34m.\u001b[0m\u001b[0mgroup\u001b[0m\u001b[0;34m(\u001b[0m\u001b[0;36m2\u001b[0m\u001b[0;34m)\u001b[0m\u001b[0;34m)\u001b[0m\u001b[0;34m\u001b[0m\u001b[0;34m\u001b[0m\u001b[0m\n\u001b[1;32m     20\u001b[0m \u001b[0mprint\u001b[0m\u001b[0;34m(\u001b[0m\u001b[0mre\u001b[0m\u001b[0;34m.\u001b[0m\u001b[0mmatch\u001b[0m\u001b[0;34m(\u001b[0m\u001b[0mregex\u001b[0m\u001b[0;34m,\u001b[0m \u001b[0msentence\u001b[0m\u001b[0;34m)\u001b[0m\u001b[0;34m.\u001b[0m\u001b[0mgroup\u001b[0m\u001b[0;34m(\u001b[0m\u001b[0;36m3\u001b[0m\u001b[0;34m)\u001b[0m\u001b[0;34m)\u001b[0m\u001b[0;34m\u001b[0m\u001b[0;34m\u001b[0m\u001b[0m\n\u001b[0;32m---> 21\u001b[0;31m \u001b[0mprint\u001b[0m\u001b[0;34m(\u001b[0m\u001b[0mre\u001b[0m\u001b[0;34m.\u001b[0m\u001b[0mmatch\u001b[0m\u001b[0;34m(\u001b[0m\u001b[0mregex\u001b[0m\u001b[0;34m,\u001b[0m \u001b[0msentence\u001b[0m\u001b[0;34m)\u001b[0m\u001b[0;34m.\u001b[0m\u001b[0mgroup\u001b[0m\u001b[0;34m(\u001b[0m\u001b[0;36m4\u001b[0m\u001b[0;34m)\u001b[0m\u001b[0;34m)\u001b[0m\u001b[0;34m\u001b[0m\u001b[0;34m\u001b[0m\u001b[0m\n\u001b[0m",
      "\u001b[0;31mIndexError\u001b[0m: no such group"
     ]
    }
   ],
   "source": [
    "import re\n",
    "\n",
    "# 存在多个组的情况\n",
    "regex = r\"(c)(o|a)(me)\"\n",
    "sentence = \"come, came, cmd\"\n",
    "\n",
    "# 调用 findall()\n",
    "print(re.findall(regex, sentence))\n",
    "# 调用 finditer()\n",
    "print(list(re.finditer(regex, sentence)))\n",
    "\n",
    "# 调用 group()\n",
    "print(re.match(regex, sentence).group())\n",
    "# 调用 groups()\n",
    "print(re.match(regex, sentence).groups())\n",
    "# 调用 group(index)\n",
    "print(re.match(regex, sentence).group(0))\n",
    "print(re.match(regex, sentence).group(1))\n",
    "print(re.match(regex, sentence).group(2))\n",
    "print(re.match(regex, sentence).group(3))\n",
    "print(re.match(regex, sentence).group(4))"
   ]
  },
  {
   "cell_type": "code",
   "execution_count": 83,
   "metadata": {},
   "outputs": [
    {
     "name": "stdout",
     "output_type": "stream",
     "text": [
      "['MSBD5001', 'MATH6000']\n",
      "[['MSBD5001'], [], [], ['MATH6000']]\n",
      "['MSBD5001', 'MATH6000']\n",
      "['MSBD5001', 'MATH6000']\n"
     ]
    }
   ],
   "source": [
    "# 多种模式的混合使用\n",
    "import re\n",
    "\n",
    "# 检测某个字符串是否为课程名\n",
    "regex = r\"[A-Z]{4}[0-9]{4}\"\n",
    "sentences = [\"MSBD5001\", \"MS5001\", \"MSBD1\", \"MATH6000\"]\n",
    "print(re.findall(regex, str(sentences)))\n",
    "# 一种更好的写法\n",
    "print([re.findall(regex, s) for s in sentences])\n",
    "# 把前一种写法的结果展平\n",
    "from functools import reduce\n",
    "print(reduce(lambda lhs, rhs: lhs + rhs, [re.findall(regex, s) for s in sentences]))\n",
    "# 或者用下面的写法（列表生成器的嵌套）\n",
    "print([match for s in sentences for match in re.findall(regex, s)])"
   ]
  },
  {
   "cell_type": "code",
   "execution_count": 91,
   "metadata": {},
   "outputs": [
    {
     "name": "stdout",
     "output_type": "stream",
     "text": [
      "['MSBD-abc-000-DEF-v1.0.3', 'MATH-b2b-v9', 'MATH-abc-v1-v3.3']\n",
      "['abc-000-DEF', 'b2b', 'abc-v1']\n",
      "['DEF', 'b2b', 'v1']\n"
     ]
    }
   ],
   "source": [
    "# 多种模式的复杂混合使用\n",
    "import re\n",
    "\n",
    "# 假设我们的产品名的格式如下：产品种类-产品描述-...-产品描述-...-产品描述-产品版本。其中：\n",
    "# 产品种类是有限的（必须是 MSBD 或者 MATH）；\n",
    "# 至少存在一个产品描述，单个产品描述由数字和字母组成，多个产品描述间由 '-' 连接；\n",
    "# 产品版本由 v 开头，后接数字与 '.' 的组合。\n",
    "# 以下是一些产品名的例子：\n",
    "# MSBD-abc-000-def-v1.0.3, MATH-b2b-v9\n",
    "\n",
    "regex = r\"^(MSBD|MATH)(-[a-zA-Z0-9]+)+(-v[0-9]+(\\.[0-9]+)*)$\"\n",
    "sentences = [\"MSBD-abc-000-DEF-v1.0.3\", \"MATH-b2b-v9\", \n",
    "                   \"MSBD-v2.0\", \"MATH-h2o\", \"noise-MATH-head-v0\", \n",
    "                   \"MATH-tail-v0-noise\", \"ABCD-b52-v1\", \n",
    "                   \"MSBD-m&n-v0\", \"MATH-abc-v1-v3.3\", \"MATH-abc-v1-v3&3\"]\n",
    "print([match.group() for s in sentences for match in re.finditer(regex, s)])\n",
    "\n",
    "# 假如我们想提取出所有产品的描述\n",
    "candidate = [match.group() for s in sentences for match in re.finditer(regex, s)]\n",
    "extractor = r\"^(.+?)-(.+)-(v.+)$\"\n",
    "print([match.group(2) for c in candidate for match in re.finditer(extractor, c)])\n",
    "# 思考：假如将 extractor 改成 r\"^(.+)-(.+)-(v.+)$\" 会发生什么？\n",
    "# 会贪心地去匹配，导致部分产品描述缺失\n",
    "extractor = r\"^(.+)-(.+)-(v.+)$\"\n",
    "print([match.group(2) for c in candidate for match in re.finditer(extractor, c)])"
   ]
  },
  {
   "cell_type": "markdown",
   "metadata": {},
   "source": [
    "1.17.2 正则表达式修饰符"
   ]
  },
  {
   "cell_type": "code",
   "execution_count": 105,
   "metadata": {},
   "outputs": [
    {
     "name": "stdout",
     "output_type": "stream",
     "text": [
      "['azinga']\n",
      "['Bazinga']\n",
      "[]\n",
      "['\\n']\n",
      "[]\n",
      "['Bazinga!\\n']\n"
     ]
    }
   ],
   "source": [
    "import re\n",
    "\n",
    "# re.I，使匹配对大小写不敏感\n",
    "regex = r\"[a-z]+\"\n",
    "sentence = \"Bazinga\"\n",
    "print(re.findall(regex, sentence))\n",
    "print(re.findall(regex, sentence, re.I))\n",
    "\n",
    "# re.S，使 . 匹配包括换行在内的所有字符\n",
    "regex = r\".{1}\"\n",
    "sentence = \"\\n\"\n",
    "print(re.findall(regex, sentence))\n",
    "print(re.findall(regex, sentence, re.S))\n",
    "\n",
    "# 同时使用多个修饰符\n",
    "regex = r\"[a-z]+!.{1}\"\n",
    "sentence = \"Bazinga!\\n\"\n",
    "print(re.findall(regex, sentence))\n",
    "print(re.findall(regex, sentence, re.I | re.S))"
   ]
  },
  {
   "cell_type": "code",
   "execution_count": null,
   "metadata": {},
   "outputs": [],
   "source": []
  }
 ],
 "metadata": {
  "kernelspec": {
   "display_name": "Python 3",
   "language": "python",
   "name": "python3"
  },
  "language_info": {
   "codemirror_mode": {
    "name": "ipython",
    "version": 3
   },
   "file_extension": ".py",
   "mimetype": "text/x-python",
   "name": "python",
   "nbconvert_exporter": "python",
   "pygments_lexer": "ipython3",
   "version": "3.7.2"
  }
 },
 "nbformat": 4,
 "nbformat_minor": 2
}
