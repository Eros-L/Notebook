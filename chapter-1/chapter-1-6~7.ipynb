{
 "cells": [
  {
   "cell_type": "markdown",
   "metadata": {},
   "source": [
    "1.6 条件语句"
   ]
  },
  {
   "cell_type": "code",
   "execution_count": 1,
   "metadata": {},
   "outputs": [
    {
     "name": "stdout",
     "output_type": "stream",
     "text": [
      "-23 是一个负数\n",
      "0 等于 0\n",
      "242 是一个正数\n"
     ]
    }
   ],
   "source": [
    "# 例子\n",
    "def isNegative(num):\n",
    "    if num < 0:\n",
    "        print(\"%d 是一个负数\" % num)\n",
    "    elif num == 0:\n",
    "        print(\"%d 等于 0\" % num)\n",
    "    else:\n",
    "        print(\"%d 是一个正数\" % num)\n",
    "        \n",
    "isNegative(-23)\n",
    "isNegative(0)\n",
    "isNegative(242)"
   ]
  },
  {
   "cell_type": "code",
   "execution_count": 2,
   "metadata": {},
   "outputs": [
    {
     "name": "stdout",
     "output_type": "stream",
     "text": [
      "241 是一个奇数\n",
      "8832 不是一个奇数\n"
     ]
    }
   ],
   "source": [
    "# 条件运算符\n",
    "def isOdd(num):\n",
    "    return (\"%d 是一个奇数\" if num % 2 == 1 else \"%d 不是一个奇数\") % num\n",
    "\n",
    "print(isOdd(241))\n",
    "print(isOdd(8832))"
   ]
  },
  {
   "cell_type": "code",
   "execution_count": 3,
   "metadata": {},
   "outputs": [
    {
     "name": "stdout",
     "output_type": "stream",
     "text": [
      "101\n"
     ]
    }
   ],
   "source": [
    "# 另一个条件运算符的例子\n",
    "var = 100\n",
    "var += 1 if var % 2 == 0 else -1\n",
    "print(var)\n",
    "# 实际上，条件运算符也可以嵌套使用，但是会让代码的可读性变差"
   ]
  },
  {
   "cell_type": "markdown",
   "metadata": {},
   "source": [
    "1.7 循环语句"
   ]
  },
  {
   "cell_type": "code",
   "execution_count": 7,
   "metadata": {},
   "outputs": [
    {
     "name": "stdout",
     "output_type": "stream",
     "text": [
      "p y t h o n \n",
      "-- end of for loop --\n",
      "banana apple mango \n",
      "banana apple mango \n",
      "dict_items([('banana', 1), ('apple', 2), ('mango', 3)])\n",
      "banana: 1\n",
      "apple: 2\n",
      "mango: 3\n",
      "-1 14 47 \n",
      "banana: 1\n",
      "apple: 2\n",
      "mango: 3\n",
      "mango apple banana \n",
      "mango apple banana \n",
      "mango apple banana \n",
      "apple banana mango \n",
      "mango banana apple \n"
     ]
    }
   ],
   "source": [
    "# 遍历字符串\n",
    "for letter in 'python':\n",
    "    print(letter, end=' ')\n",
    "else:\n",
    "    print('\\n-- end of for loop --')\n",
    "\n",
    "# 遍历列表\n",
    "fruits = ['banana', 'apple', 'mango']\n",
    "for fruit in fruits:\n",
    "    print(fruit, end=' ')\n",
    "print()\n",
    "\n",
    "# 下标遍历列表\n",
    "for i in range(len(fruits)):\n",
    "    print(fruits[i], end=' ')\n",
    "print()\n",
    "\n",
    "# 遍历内容为序列的列表\n",
    "# tuple\n",
    "prices = {'banana': 1, 'apple': 2, 'mango': 3}\n",
    "print(prices.items())\n",
    "for (fruit, price) in prices.items():\n",
    "    print('%s: %d' % (fruit, price))\n",
    "# list\n",
    "data = [[1, 2, 3], [4, 5, 6], [7, 8, 9]]\n",
    "for (a, b, c) in data:\n",
    "    print(a * b - c, end=' ')\n",
    "print()\n",
    "    \n",
    "# 同时遍历多个列表（此处的 prices.keys() 与 prices.values() 都是列表）\n",
    "for (fruit, price) in zip(prices.keys(), prices.values()):\n",
    "    print('%s: %d' % (fruit, price))\n",
    "    \n",
    "# 反向遍历列表\n",
    "for fruit in reversed(fruits):\n",
    "    print(fruit, end=' ')\n",
    "print()\n",
    "# 某些算法题中可能需要用到这种遍历技巧\n",
    "for i in range(len(fruits)-1, -1, -1):\n",
    "    print(fruits[i], end=' ')\n",
    "print()\n",
    "for i in reversed(range(len(fruits))):\n",
    "    print(fruits[i], end=' ')\n",
    "print()\n",
    "    \n",
    "# 按序遍历列表\n",
    "for fruit in sorted(fruits):\n",
    "    print(fruit, end=' ')\n",
    "print()\n",
    "for fruit in sorted(fruits, reverse=True):\n",
    "    print(fruit, end=' ')\n",
    "print()"
   ]
  },
  {
   "cell_type": "code",
   "execution_count": 11,
   "metadata": {},
   "outputs": [
    {
     "name": "stdout",
     "output_type": "stream",
     "text": [
      "[5, 7, 3, 1, 6, 4, 2]\n",
      "['banana', 'apple', 'mango']\n",
      "[1, 3, 5, 7, 2, 4, 6]\n"
     ]
    }
   ],
   "source": [
    "# 按序遍历的彩蛋\n",
    "\n",
    "# key 用来进行比较的元素，只有一个参数，具体的函数的参数就是取自于可迭代对象中，指定可迭代对象中的一个元素来进行排序。\n",
    "nums = [5, 7, 6, 3, 4, 1, 2]\n",
    "# 奇数在前，偶数在后\n",
    "print(sorted(nums, key=lambda lhs: lhs % 2 == 0))\n",
    "\n",
    "# 按照最后一个字符进行排序\n",
    "fruits = ['banana', 'apple', 'mango']\n",
    "print(sorted(fruits, key=lambda lhs: lhs[-1]))\n",
    "\n",
    "# 按照多个条件自定义排序\n",
    "# 由于 key 只能使用一个参数来进行比较，我们需要调用 cmp_to_key 来支持使用多个参数进行比较\n",
    "from functools import cmp_to_key\n",
    "# 奇数在前，偶数在后；同奇偶性时，升序\n",
    "# cmp 函数的返回值为整型：-1 代表小于；0 代表等于；1 代表大于\n",
    "def cmp(lhs, rhs) -> int:\n",
    "    # 同奇偶性时，升序排序\n",
    "    if lhs % 2 == rhs % 2:\n",
    "        return (rhs < lhs) - (lhs < rhs)\n",
    "    # 异奇偶性时，奇数在前，偶数在后\n",
    "    else:\n",
    "        return rhs % 2 - lhs % 2\n",
    "print(sorted(nums, key=cmp_to_key(cmp)))"
   ]
  },
  {
   "cell_type": "code",
   "execution_count": 13,
   "metadata": {},
   "outputs": [
    {
     "name": "stdout",
     "output_type": "stream",
     "text": [
      "(0, 5) (1, 2) (1, 0) (3, 4) (6, -1) \n",
      "(0, 5) (1, 0) (1, 2) (3, 4) (6, -1) \n"
     ]
    }
   ],
   "source": [
    "class Vector2:\n",
    "    def __init__(self, x, y):\n",
    "        self.x = x\n",
    "        self.y = y\n",
    "    def __str__(self):\n",
    "        return \"(%d, %d)\" % (self.x, self.y)\n",
    "    \n",
    "# 按属性进行排序\n",
    "vectors = [Vector2(1, 2), Vector2(3, 4), Vector2(0, 5), Vector2(1, 0), Vector2(6, -1)]\n",
    "# 按 x 升序排序\n",
    "for v in sorted(vectors, key=lambda lhs: lhs.x):\n",
    "    print(v, end=' ')\n",
    "print()\n",
    "\n",
    "# 按多个属性进行排序\n",
    "from functools import cmp_to_key\n",
    "# 按 x 升序排序；x 相等时，按 y 升序排序\n",
    "for v in sorted(vectors, key=cmp_to_key(lambda lhs, rhs: (rhs.x < lhs.x) - (lhs.x < rhs.x) or (rhs.y < lhs.y) - (lhs.y < rhs.y))):\n",
    "    print(v, end=' ')\n",
    "print()"
   ]
  },
  {
   "cell_type": "code",
   "execution_count": 9,
   "metadata": {},
   "outputs": [
    {
     "name": "stdout",
     "output_type": "stream",
     "text": [
      "1\n",
      "3\n",
      "5\n",
      "7\n",
      "9\n"
     ]
    }
   ],
   "source": [
    "# 循环控制语句\n",
    "for i in range(100):\n",
    "    if i > 10:\n",
    "        break\n",
    "    elif i % 2 == 0:\n",
    "        continue\n",
    "    else:\n",
    "        pass\n",
    "    print(i)\n",
    "else:\n",
    "    # 使用 break 终止循环时，不执行 else\n",
    "    print('-- end of for loop --')"
   ]
  },
  {
   "cell_type": "code",
   "execution_count": 7,
   "metadata": {},
   "outputs": [
    {
     "name": "stdout",
     "output_type": "stream",
     "text": [
      "0\n",
      "1\n",
      "2\n",
      "3\n",
      "4\n",
      "5\n",
      "6\n",
      "7\n",
      "8\n",
      "9\n",
      "-- end of while loop --\n"
     ]
    }
   ],
   "source": [
    "# while 循环\n",
    "count = 0\n",
    "while count < 10:\n",
    "    print(count)\n",
    "    count += 1\n",
    "else:\n",
    "    print('-- end of while loop --')"
   ]
  },
  {
   "cell_type": "code",
   "execution_count": null,
   "metadata": {},
   "outputs": [],
   "source": []
  }
 ],
 "metadata": {
  "kernelspec": {
   "display_name": "Python 3",
   "language": "python",
   "name": "python3"
  },
  "language_info": {
   "codemirror_mode": {
    "name": "ipython",
    "version": 3
   },
   "file_extension": ".py",
   "mimetype": "text/x-python",
   "name": "python",
   "nbconvert_exporter": "python",
   "pygments_lexer": "ipython3",
   "version": "3.7.2"
  }
 },
 "nbformat": 4,
 "nbformat_minor": 2
}
