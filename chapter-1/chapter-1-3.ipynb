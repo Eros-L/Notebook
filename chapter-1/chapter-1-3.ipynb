{
 "cells": [
  {
   "cell_type": "markdown",
   "metadata": {},
   "source": [
    "定义编码格式"
   ]
  },
  {
   "cell_type": "code",
   "execution_count": 1,
   "metadata": {},
   "outputs": [],
   "source": [
    "# -*- coding: utf-8 -*-"
   ]
  },
  {
   "cell_type": "markdown",
   "metadata": {},
   "source": [
    "1.3.1 标识符"
   ]
  },
  {
   "cell_type": "code",
   "execution_count": 2,
   "metadata": {},
   "outputs": [],
   "source": [
    "class A:\n",
    "    \"\"\"Class A is used for testing.\n",
    "    Args:\n",
    "        data: TBD.\n",
    "    \"\"\"\n",
    "\n",
    "    # 构造函数\n",
    "    def __init__(self, data: list):\n",
    "        self.data = data\n",
    "    # 析构函数\n",
    "    def __del__(self):\n",
    "        for i in range(len(self.data)):\n",
    "            self.data[i] -= 1\n",
    "    # 调用函数\n",
    "    def __call__(self, *args, **kwargs):\n",
    "        print(args)\n",
    "        print(kwargs)\n",
    "    # 打印函数\n",
    "    def __str__(self):\n",
    "        return \"This is an instance of class A. \"\n",
    "\n",
    "    # 定义一个公有方法\n",
    "    def func(self):\n",
    "        print(\"This is a public method. \")\n",
    "    # 定义一个保护方法\n",
    "    def _func(self):\n",
    "        print(\"This is a protected method. \")\n",
    "    # 定义一个私有方法\n",
    "    def __func(self):\n",
    "        print(\"This is a private method. \")\n",
    "    # 定义一个特殊方法\n",
    "    def __func__(self):\n",
    "        print(\"This is a reserved method. \")"
   ]
  },
  {
   "cell_type": "code",
   "execution_count": 3,
   "metadata": {},
   "outputs": [
    {
     "name": "stdout",
     "output_type": "stream",
     "text": [
      "Class A is used for testing.\n",
      "    Args:\n",
      "        data: TBD.\n",
      "    \n",
      "__main__\n",
      "<class 'type'>\n"
     ]
    }
   ],
   "source": [
    "# 打印类描述信息\n",
    "print(A.__doc__)\n",
    "# 打印当前对象所在模块\n",
    "print(A.__module__)\n",
    "# 打印当前对象所属类\n",
    "print(A.__class__)"
   ]
  },
  {
   "cell_type": "code",
   "execution_count": 4,
   "metadata": {},
   "outputs": [
    {
     "name": "stdout",
     "output_type": "stream",
     "text": [
      "[1, 2, 3, 4, 5]\n",
      "{'__module__': '__main__', '__doc__': 'Class A is used for testing.\\n    Args:\\n        data: TBD.\\n    ', '__init__': <function A.__init__ at 0x1114427b8>, '__del__': <function A.__del__ at 0x111442840>, '__call__': <function A.__call__ at 0x1114428c8>, '__str__': <function A.__str__ at 0x111442950>, 'func': <function A.func at 0x1114429d8>, '_func': <function A._func at 0x111442a60>, '_A__func': <function A.__func at 0x111442ae8>, '__func__': <function A.__func__ at 0x111442b70>, '__dict__': <attribute '__dict__' of 'A' objects>, '__weakref__': <attribute '__weakref__' of 'A' objects>}\n",
      "{'data': [1, 2, 3, 4, 5]}\n",
      "This is an instance of class A. \n",
      "(1, 2, 3)\n",
      "{'x': 4, 'y': 5, 'z': 6}\n",
      "[0, 1, 2, 3, 4]\n"
     ]
    }
   ],
   "source": [
    "nums = [1, 2, 3, 4, 5]\n",
    "# 生成一个类 A 的实例\n",
    "a = A(data=nums)\n",
    "print(nums)\n",
    "# 打印类成员\n",
    "print(A.__dict__)\n",
    "print(a.__dict__)\n",
    "# 测试打印函数\n",
    "print(a)\n",
    "# 测试调用函数\n",
    "a(1, 2, 3, x=4, y=5, z=6)\n",
    "# 删除实例 a\n",
    "del a\n",
    "print(nums)"
   ]
  },
  {
   "cell_type": "code",
   "execution_count": 5,
   "metadata": {},
   "outputs": [
    {
     "name": "stdout",
     "output_type": "stream",
     "text": [
      "This is a public method. \n",
      "This is a protected method. \n",
      "This is a private method. \n",
      "This is a reserved method. \n"
     ]
    }
   ],
   "source": [
    "# 生成一个类 A 的实例\n",
    "a = A(data=nums)\n",
    "# 测试公有方法调用\n",
    "a.func()\n",
    "# 测试保护方法调用\n",
    "a._func()\n",
    "# 测试私有方法调用\n",
    "# a.__func()\n",
    "a._A__func()\n",
    "# 测试特殊方法调用\n",
    "a.__func__()"
   ]
  },
  {
   "cell_type": "code",
   "execution_count": 6,
   "metadata": {},
   "outputs": [],
   "source": [
    "class B:\n",
    "    def __init__(self):\n",
    "        self.data = dict()\n",
    "    # 获取数据\n",
    "    def __getitem__(self, key):\n",
    "        return self.data.get('key')\n",
    "    # 设置数据\n",
    "    def __setitem__(self, key, value):\n",
    "        self.data['key'] = value\n",
    "    # 删除数据\n",
    "    def __delitem__(self, key):\n",
    "        del self.data['key']"
   ]
  },
  {
   "cell_type": "code",
   "execution_count": 7,
   "metadata": {},
   "outputs": [
    {
     "name": "stdout",
     "output_type": "stream",
     "text": [
      "None\n",
      "2020\n",
      "None\n"
     ]
    }
   ],
   "source": [
    "# 生成一个类 B 的实例\n",
    "b = B()\n",
    "# 获取 'key' 的值\n",
    "print(b['key'])\n",
    "# 设置 'key' 的值\n",
    "b['key'] = 2020\n",
    "print(b['key'])\n",
    "# 删除 'key' 的值\n",
    "del b['key']\n",
    "print(b['key'])"
   ]
  },
  {
   "cell_type": "code",
   "execution_count": 8,
   "metadata": {},
   "outputs": [],
   "source": [
    "# 因为 __new__ 与 __metaclass__ 的用法较复杂，所以不做详细介绍。"
   ]
  },
  {
   "cell_type": "markdown",
   "metadata": {},
   "source": [
    "1.3.3 格式"
   ]
  },
  {
   "cell_type": "code",
   "execution_count": 13,
   "metadata": {},
   "outputs": [
    {
     "name": "stdout",
     "output_type": "stream",
     "text": [
      "True\n"
     ]
    }
   ],
   "source": [
    "if True:\n",
    "    print (\"True\")\n",
    "else:\n",
    "    print (\"False\")"
   ]
  },
  {
   "cell_type": "code",
   "execution_count": 15,
   "metadata": {},
   "outputs": [
    {
     "ename": "IndentationError",
     "evalue": "unindent does not match any outer indentation level (<tokenize>, line 7)",
     "output_type": "error",
     "traceback": [
      "\u001b[0;36m  File \u001b[0;32m\"<tokenize>\"\u001b[0;36m, line \u001b[0;32m7\u001b[0m\n\u001b[0;31m    print (\"False\")\u001b[0m\n\u001b[0m    ^\u001b[0m\n\u001b[0;31mIndentationError\u001b[0m\u001b[0;31m:\u001b[0m unindent does not match any outer indentation level\n"
     ]
    }
   ],
   "source": [
    "if True:\n",
    "    print (\"Answer\")\n",
    "    print (\"True\")\n",
    "else:\n",
    "    print (\"Answer\")\n",
    "    # 没有严格缩进，在执行时会报错\n",
    "  print (\"False\")"
   ]
  },
  {
   "cell_type": "code",
   "execution_count": 16,
   "metadata": {},
   "outputs": [
    {
     "name": "stdout",
     "output_type": "stream",
     "text": [
      "6\n",
      "['Monday', 'Tuesday', 'Wednesday', 'Thursday', 'Friday']\n"
     ]
    }
   ],
   "source": [
    "sum = 1 + \\\n",
    "         2 + \\\n",
    "         3\n",
    "print(sum)\n",
    "\n",
    "days = ['Monday', 'Tuesday', 'Wednesday',\n",
    "        'Thursday', 'Friday']\n",
    "print(days)"
   ]
  },
  {
   "cell_type": "code",
   "execution_count": 18,
   "metadata": {},
   "outputs": [
    {
     "name": "stdout",
     "output_type": "stream",
     "text": [
      "word\n",
      "这是一个句子。\n",
      "这是一个段落。\n",
      "包含了多个语句\n"
     ]
    }
   ],
   "source": [
    "word = 'word'\n",
    "sentence = \"这是一个句子。\"\n",
    "paragraph = \"\"\"这是一个段落。\n",
    "包含了多个语句\"\"\"\n",
    "\n",
    "print(word)\n",
    "print(sentence)\n",
    "print(paragraph)"
   ]
  },
  {
   "cell_type": "code",
   "execution_count": 21,
   "metadata": {},
   "outputs": [
    {
     "data": {
      "text/plain": [
       "'\\n多行注释\\n多行注释\\n'"
      ]
     },
     "execution_count": 21,
     "metadata": {},
     "output_type": "execute_result"
    }
   ],
   "source": [
    "# 单行注释\n",
    "\n",
    "'''\n",
    "多行注释\n",
    "多行注释\n",
    "'''\n",
    "\n",
    "\"\"\"\n",
    "多行注释\n",
    "多行注释\n",
    "\"\"\""
   ]
  },
  {
   "cell_type": "code",
   "execution_count": 22,
   "metadata": {},
   "outputs": [
    {
     "name": "stdout",
     "output_type": "stream",
     "text": [
      "please input an integer: 2020\n",
      "2020 <class 'str'>\n",
      "please input a float number: 3.14\n",
      "3.14 <class 'str'>\n",
      "please input a string: big data\n",
      "big data <class 'str'>\n"
     ]
    }
   ],
   "source": [
    "a = input(\"please input an integer: \")\n",
    "print(a, type(a))\n",
    "\n",
    "b = input(\"please input a float number: \")\n",
    "print(b, type(b))\n",
    "\n",
    "c = input(\"please input a string: \")\n",
    "print(c, type(c))"
   ]
  },
  {
   "cell_type": "markdown",
   "metadata": {},
   "source": [
    "1.3.2 保留字"
   ]
  },
  {
   "cell_type": "code",
   "execution_count": 1,
   "metadata": {},
   "outputs": [
    {
     "name": "stdout",
     "output_type": "stream",
     "text": [
      "hello world\n"
     ]
    }
   ],
   "source": [
    "# 执行储存在字符串或文件中的 python 语句\n",
    "statement = \"print('hello world')\"\n",
    "exec(statement)"
   ]
  },
  {
   "cell_type": "code",
   "execution_count": 3,
   "metadata": {},
   "outputs": [
    {
     "name": "stdout",
     "output_type": "stream",
     "text": [
      "1\n"
     ]
    }
   ],
   "source": [
    "# 解除引用\n",
    "# python 有 GC（垃圾回收） 机制，引用计数器为 0 时将自动回收内存\n",
    "a = 1     # 对象 1 被 变量a引用，对象1的引用计数器为1\n",
    "b = a    # 对象1 被变量b引用，对象1的引用计数器加1 = 2\n",
    "c = a    # 1对象1 被变量c引用，对象1的引用计数器加1 = 3\n",
    "del a     # 删除变量a，解除a对1的引用\n",
    "del b     # 删除变量b，解除b对1的引用\n",
    "print(c)  # 最终变量c仍然引用1"
   ]
  },
  {
   "cell_type": "code",
   "execution_count": null,
   "metadata": {},
   "outputs": [],
   "source": []
  }
 ],
 "metadata": {
  "kernelspec": {
   "display_name": "Python 3",
   "language": "python",
   "name": "python3"
  },
  "language_info": {
   "codemirror_mode": {
    "name": "ipython",
    "version": 3
   },
   "file_extension": ".py",
   "mimetype": "text/x-python",
   "name": "python",
   "nbconvert_exporter": "python",
   "pygments_lexer": "ipython3",
   "version": "3.7.2"
  }
 },
 "nbformat": 4,
 "nbformat_minor": 2
}
