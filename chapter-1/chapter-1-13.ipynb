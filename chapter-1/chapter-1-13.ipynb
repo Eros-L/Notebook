{
 "cells": [
  {
   "cell_type": "markdown",
   "metadata": {},
   "source": [
    "1.13 输入和输出"
   ]
  },
  {
   "cell_type": "markdown",
   "metadata": {},
   "source": [
    "1.13.1 str() 与 repr()"
   ]
  },
  {
   "cell_type": "code",
   "execution_count": 7,
   "metadata": {},
   "outputs": [
    {
     "name": "stdout",
     "output_type": "stream",
     "text": [
      "[datetime.datetime(2020, 1, 12, 13, 15, 23, 303560)]\n",
      "2020-01-12 13:15:23.303852\n",
      "datetime.datetime(2020, 1, 12, 13, 15, 23, 303948)\n",
      "2020-01-12 13:15:23.304037\n"
     ]
    }
   ],
   "source": [
    "import datetime\n",
    "\n",
    "print([datetime.datetime.now()])\n",
    "\n",
    "print(datetime.datetime.now())\n",
    "# 开发者友好\n",
    "print(repr(datetime.datetime.now()))\n",
    "# 用户友好\n",
    "print(str(datetime.datetime.now()))"
   ]
  },
  {
   "cell_type": "code",
   "execution_count": 3,
   "metadata": {},
   "outputs": [
    {
     "name": "stdout",
     "output_type": "stream",
     "text": [
      "[TestRepr(5)]\n",
      "TestRepr(5)\n"
     ]
    }
   ],
   "source": [
    "# 重构 __repr__\n",
    "class TestRepr():\n",
    "    def __init__(self, data):\n",
    "        self.data = data\n",
    "    def __repr__(self):\n",
    "        return 'TestRepr(%s)' % self.data\n",
    "\n",
    "tr = TestRepr('5')\n",
    "print([tr])\n",
    "print(tr)"
   ]
  },
  {
   "cell_type": "code",
   "execution_count": 6,
   "metadata": {},
   "outputs": [
    {
     "name": "stdout",
     "output_type": "stream",
     "text": [
      "[<__main__.TestStr object at 0x10f0dacc0>]\n",
      "[Value: 5]\n"
     ]
    }
   ],
   "source": [
    "# 重构 __str__\n",
    "class TestStr():\n",
    "    def __init__(self, data):\n",
    "        self.data = data\n",
    "    def __str__(self):\n",
    "        return '[Value: %s]' % self.data\n",
    "\n",
    "ts = TestStr('5')\n",
    "print([ts])\n",
    "print(ts)"
   ]
  },
  {
   "cell_type": "code",
   "execution_count": 8,
   "metadata": {},
   "outputs": [
    {
     "name": "stdout",
     "output_type": "stream",
     "text": [
      "[Test(5)]\n",
      "[Value: 5]\n"
     ]
    }
   ],
   "source": [
    "## 重构 __str__ 和 __repr__\n",
    "class Test():\n",
    "    def __init__(self, data):\n",
    "        self.data = data\n",
    "    def __repr__(self):\n",
    "        return 'Test(%s)' % self.data\n",
    "    def __str__(self):\n",
    "        return '[Value: %s]' % self.data\n",
    "\n",
    "t = Test('5')\n",
    "print([t])\n",
    "print(t)"
   ]
  },
  {
   "cell_type": "code",
   "execution_count": 14,
   "metadata": {},
   "outputs": [
    {
     "name": "stdout",
     "output_type": "stream",
     "text": [
      "True\n",
      "True\n"
     ]
    }
   ],
   "source": [
    "obj = str()\n",
    "print(obj == eval(repr(obj)))\n",
    "\n",
    "obj = list()\n",
    "print(obj == eval(repr(obj)))"
   ]
  },
  {
   "cell_type": "markdown",
   "metadata": {},
   "source": [
    "1.13.2 输出格式美化"
   ]
  },
  {
   "cell_type": "code",
   "execution_count": 11,
   "metadata": {},
   "outputs": [
    {
     "name": "stdout",
     "output_type": "stream",
     "text": [
      " 1   1    1\n",
      " 2   4    8\n",
      " 3   9   27\n",
      " 4  16   64\n",
      " 5  25  125\n",
      " 6  36  216\n",
      " 7  49  343\n",
      " 8  64  512\n",
      " 9  81  729\n",
      "10 100 1000\n"
     ]
    }
   ],
   "source": [
    "# 右对齐\n",
    "for x in range(1, 11):\n",
    "    print(repr(x).rjust(2), repr(x*x).rjust(3), end=' ')\n",
    "    # 注意前一行 'end' 的使用\n",
    "    print(repr(x*x*x).rjust(4))"
   ]
  },
  {
   "cell_type": "code",
   "execution_count": 12,
   "metadata": {},
   "outputs": [
    {
     "name": "stdout",
     "output_type": "stream",
     "text": [
      " 1   1    1\n",
      " 2   4    8\n",
      " 3   9   27\n",
      " 4  16   64\n",
      " 5  25  125\n",
      " 6  36  216\n",
      " 7  49  343\n",
      " 8  64  512\n",
      " 9  81  729\n",
      "10 100 1000\n"
     ]
    }
   ],
   "source": [
    "# 右对齐\n",
    "for x in range(1, 11):\n",
    "    print('{0:2d} {1:3d} {2:4d}'.format(x, x*x, x*x*x))"
   ]
  },
  {
   "cell_type": "code",
   "execution_count": 16,
   "metadata": {},
   "outputs": [
    {
     "name": "stdout",
     "output_type": "stream",
     "text": [
      "1  1   1   \n",
      "2  4   8   \n",
      "3  9   27  \n",
      "4  16  64  \n",
      "5  25  125 \n",
      "6  36  216 \n",
      "7  49  343 \n",
      "8  64  512 \n",
      "9  81  729 \n",
      "10 100 1000\n"
     ]
    }
   ],
   "source": [
    "# 左对齐\n",
    "for x in range(1, 11):\n",
    "    print('{0:<2d} {1:<3d} {2:<4d}'.format(x, x*x, x*x*x))"
   ]
  },
  {
   "cell_type": "code",
   "execution_count": 17,
   "metadata": {},
   "outputs": [
    {
     "name": "stdout",
     "output_type": "stream",
     "text": [
      "1   1   1  \n",
      "2   4   8  \n",
      "3   9   27 \n",
      "4  16   64 \n",
      "5  25  125 \n",
      "6  36  216 \n",
      "7  49  343 \n",
      "8  64  512 \n",
      "9  81  729 \n",
      "10 100 1000\n"
     ]
    }
   ],
   "source": [
    "# 居中对齐\n",
    "for x in range(1, 11):\n",
    "    print('{0:^2d} {1:^3d} {2:^4d}'.format(x, x*x, x*x*x))"
   ]
  },
  {
   "cell_type": "code",
   "execution_count": 18,
   "metadata": {},
   "outputs": [
    {
     "name": "stdout",
     "output_type": "stream",
     "text": [
      "Hello World\n",
      "Hello World\n",
      "World Hello\n",
      "Hello World\n",
      "Hello World\n"
     ]
    }
   ],
   "source": [
    "# 基础用法\n",
    "print(\"{} {}\".format('Hello', 'World'))\n",
    "# 指定位置\n",
    "print(\"{0} {1}\".format('Hello', 'World'))\n",
    "print(\"{1} {0}\".format('Hello', 'World'))\n",
    "# 使用关键字\n",
    "print(\"{verb} {noun}\".format(verb='Hello', noun='World'))\n",
    "# 位置及关键字参数\n",
    "print(\"{0} {noun}\".format('Hello', noun='World'))"
   ]
  },
  {
   "cell_type": "code",
   "execution_count": 30,
   "metadata": {},
   "outputs": [
    {
     "name": "stdout",
     "output_type": "stream",
     "text": [
      "2020-01-12 13:55:44.989253, datetime.datetime(2020, 1, 12, 13, 55, 44, 989253)\n",
      "3.142\n",
      "banana     ==>          1\n",
      "apple      ==>          2\n",
      "mango      ==>          3\n"
     ]
    }
   ],
   "source": [
    "# !a (使用 ascii()), !s (使用 str()) 和 !r (使用 repr()) 可以用于在格式化某个值之前对其进行转化\n",
    "import datetime\n",
    "now = datetime.datetime.now()\n",
    "print(\"{0!s}, {0!r}\".format(now))\n",
    "# 可选项 : 和格式标识符可以跟着字段名\n",
    "# 指定小数位数\n",
    "pi = 3.141592653589793\n",
    "print(\"{0:.3f}\".format(pi))\n",
    "# 指定宽度\n",
    "prices = {'banana': 1, 'apple': 2, 'mango': 3}\n",
    "for (fruit, price) in prices.items():\n",
    "    print('{0:10} ==> {1:10d}'.format(fruit, price))"
   ]
  },
  {
   "cell_type": "code",
   "execution_count": 32,
   "metadata": {},
   "outputs": [
    {
     "name": "stdout",
     "output_type": "stream",
     "text": [
      "banana: 1; apple: 2; mango: 3\n",
      "banana: 1; apple: 2; mango: 3\n"
     ]
    }
   ],
   "source": [
    "prices = {'banana': 1, 'apple': 2, 'mango': 3}\n",
    "print('banana: {0[banana]:d}; apple: {0[apple]:d}; mango: {0[mango]:d}'.format(prices))\n",
    "print('banana: {banana:d}; apple: {apple:d}; mango: {mango:d}'.format(**prices))"
   ]
  },
  {
   "cell_type": "markdown",
   "metadata": {},
   "source": [
    "1.13.3 键盘输入"
   ]
  },
  {
   "cell_type": "code",
   "execution_count": 33,
   "metadata": {},
   "outputs": [
    {
     "name": "stdout",
     "output_type": "stream",
     "text": [
      "please input a sentence: Big Data Technology\n",
      "Big Data Technology\n"
     ]
    }
   ],
   "source": [
    "content = input(\"please input a sentence: \")\n",
    "print(content)"
   ]
  },
  {
   "cell_type": "code",
   "execution_count": null,
   "metadata": {},
   "outputs": [],
   "source": []
  }
 ],
 "metadata": {
  "kernelspec": {
   "display_name": "Python 3",
   "language": "python",
   "name": "python3"
  },
  "language_info": {
   "codemirror_mode": {
    "name": "ipython",
    "version": 3
   },
   "file_extension": ".py",
   "mimetype": "text/x-python",
   "name": "python",
   "nbconvert_exporter": "python",
   "pygments_lexer": "ipython3",
   "version": "3.7.2"
  }
 },
 "nbformat": 4,
 "nbformat_minor": 2
}
