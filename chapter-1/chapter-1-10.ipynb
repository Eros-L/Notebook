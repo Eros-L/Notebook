{
 "cells": [
  {
   "cell_type": "markdown",
   "metadata": {},
   "source": [
    "1.10.1 迭代器"
   ]
  },
  {
   "cell_type": "code",
   "execution_count": 1,
   "metadata": {},
   "outputs": [
    {
     "name": "stdout",
     "output_type": "stream",
     "text": [
      "1 2 3 4 5 6 7 8 "
     ]
    }
   ],
   "source": [
    "data = [1, 2, 3, 4, 5, 6, 7, 8]\n",
    "# for 循环中使用迭代器\n",
    "it = iter(data)\n",
    "for num in it:\n",
    "    print(num, end=' ')"
   ]
  },
  {
   "cell_type": "code",
   "execution_count": 2,
   "metadata": {},
   "outputs": [
    {
     "name": "stdout",
     "output_type": "stream",
     "text": [
      "1 2 3 4 5 6 7 8 "
     ]
    }
   ],
   "source": [
    "data = [1, 2, 3, 4, 5, 6, 7, 8]\n",
    "# while 循环中使用迭代器\n",
    "it = iter(data)\n",
    "while True:\n",
    "    try:\n",
    "        print(next(it), end=' ')\n",
    "    except StopIteration:\n",
    "        break"
   ]
  },
  {
   "cell_type": "code",
   "execution_count": 3,
   "metadata": {},
   "outputs": [
    {
     "name": "stdout",
     "output_type": "stream",
     "text": [
      "0 1 2 3 4 5 6 7 8 9 10 11 12 13 14 15 16 17 18 19 "
     ]
    }
   ],
   "source": [
    "# 定义累加器\n",
    "class Accumulator:\n",
    "    def __init__(self, zero):\n",
    "        self.zero = zero\n",
    "    # 返回一个特殊的迭代器对象\n",
    "    def __iter__(self):\n",
    "        self.it = self.zero\n",
    "        return self\n",
    "    # 返回下一个迭代器对象\n",
    "    def __next__(self):\n",
    "        if self.it < 30:\n",
    "            val, self.it = self.it, self.it + 1\n",
    "            return val\n",
    "        \n",
    "accumulator = Accumulator(zero=0)\n",
    "it = iter(accumulator)\n",
    "\n",
    "for i in range(20):\n",
    "    print(next(it), end=' ')"
   ]
  },
  {
   "cell_type": "code",
   "execution_count": 5,
   "metadata": {},
   "outputs": [
    {
     "name": "stdout",
     "output_type": "stream",
     "text": [
      "0 1 2 3 4 5 6 7 8 9 10 11 12 13 14 15 16 17 18 19 20 21 22 23 24 25 26 27 28 29 "
     ]
    }
   ],
   "source": [
    "# 定义累加器\n",
    "class Accumulator:\n",
    "    def __init__(self, zero):\n",
    "        self.zero = zero\n",
    "    # 返回一个特殊的迭代器对象\n",
    "    def __iter__(self):\n",
    "        self.it = self.zero\n",
    "        return self\n",
    "    # 返回下一个迭代器对象\n",
    "    def __next__(self):\n",
    "        if self.it < 30:\n",
    "            val, self.it = self.it, self.it + 1\n",
    "            return val\n",
    "        else:\n",
    "            # 标识迭代的完成\n",
    "            raise StopIteration\n",
    "            \n",
    "accumulator = Accumulator(zero=0)\n",
    "it = iter(accumulator)\n",
    "\n",
    "for num in it:\n",
    "    print(num, end=' ')"
   ]
  },
  {
   "cell_type": "code",
   "execution_count": 6,
   "metadata": {},
   "outputs": [
    {
     "name": "stdout",
     "output_type": "stream",
     "text": [
      "1 1 2 3 5 8 13 21 34 55 "
     ]
    }
   ],
   "source": [
    "# 斐波拉契数列迭代器\n",
    "class Fibonacci:\n",
    "    def __init__(self):\n",
    "        self.prev = self.current = None\n",
    "\n",
    "    def __iter__(self):\n",
    "        self.prev, self.current = 0, 1\n",
    "        return self\n",
    "\n",
    "    def __next__(self):\n",
    "        self.prev, self.current = self.current, self.prev + self.current\n",
    "        return self.prev\n",
    "    \n",
    "it = iter(Fibonacci())\n",
    "for i in range(10):\n",
    "    print(next(it), end=' ')"
   ]
  },
  {
   "cell_type": "markdown",
   "metadata": {},
   "source": [
    "1.10.2 生成器"
   ]
  },
  {
   "cell_type": "code",
   "execution_count": 9,
   "metadata": {},
   "outputs": [
    {
     "name": "stdout",
     "output_type": "stream",
     "text": [
      "1 1 2 3 5 8 13 21 34 55 89 144 233 377 610 "
     ]
    }
   ],
   "source": [
    "# 斐波拉契数列生成器\n",
    "def fibonacci(n):\n",
    "    prev, current = 0, 1\n",
    "    for i in range(n):\n",
    "        prev, current = current, prev + current\n",
    "        yield prev\n",
    "#     else:\n",
    "#         raise StopIteration\n",
    "        \n",
    "it = iter(fibonacci(15))\n",
    "for ele in it:\n",
    "    print(ele, end=' ')"
   ]
  },
  {
   "cell_type": "code",
   "execution_count": 10,
   "metadata": {},
   "outputs": [
    {
     "name": "stdout",
     "output_type": "stream",
     "text": [
      "[0, 1, 4, 9, 16, 25, 36, 49, 64, 81]\n",
      "<generator object <genexpr> at 0x1029976d8>\n",
      "0 1\n"
     ]
    }
   ],
   "source": [
    "# 列表生成式\n",
    "out1 = [x ** 2 for x in range(10)]\n",
    "print(out1)\n",
    "# 生成器\n",
    "out2 = (x ** 2 for x in range(10))\n",
    "print(out2)\n",
    "print(next(out2), next(out2))"
   ]
  },
  {
   "cell_type": "code",
   "execution_count": 11,
   "metadata": {},
   "outputs": [
    {
     "name": "stdout",
     "output_type": "stream",
     "text": [
      "<map object at 0x1029a4860>\n",
      "[0, 1, 4, 9, 16, 25, 36, 49, 64, 81]\n"
     ]
    }
   ],
   "source": [
    "# 提到了列表生成式，顺带提一提 python 的 map 函数\n",
    "# map() 会根据提供的函数对指定序列做映射\n",
    "# 一般情况下，与列表生成式的使用场合类似\n",
    "data = map(lambda x: x * x, range(10))\n",
    "print(data)\n",
    "print(list(data))"
   ]
  },
  {
   "cell_type": "code",
   "execution_count": 16,
   "metadata": {},
   "outputs": [
    {
     "name": "stdout",
     "output_type": "stream",
     "text": [
      "0 1 2 3 4 5 6 7 8 9 \n",
      "0 1 2 3 4 5 6 7 8 9 \n"
     ]
    }
   ],
   "source": [
    "# 生成器的 send\n",
    "def accumulator(zero, one):\n",
    "    val = zero\n",
    "    while True:\n",
    "        _ = yield val\n",
    "        val += one\n",
    "        \n",
    "# 使用 next\n",
    "it = accumulator(0, 1)\n",
    "for i in range(10):\n",
    "    print(next(it), end=' ')\n",
    "print()\n",
    "\n",
    "# 使用 send 来代替 next（不规范的做法）\n",
    "it = accumulator(0, 1)\n",
    "for i in range(10):\n",
    "    print(it.send(None), end=' ')\n",
    "print()"
   ]
  },
  {
   "cell_type": "code",
   "execution_count": 13,
   "metadata": {},
   "outputs": [
    {
     "name": "stdout",
     "output_type": "stream",
     "text": [
      "0 2 4 6 8 10 12 14 16 18 "
     ]
    },
    {
     "ename": "TypeError",
     "evalue": "can't send non-None value to a just-started generator",
     "output_type": "error",
     "traceback": [
      "\u001b[0;31m---------------------------------------------------------------------------\u001b[0m",
      "\u001b[0;31mTypeError\u001b[0m                                 Traceback (most recent call last)",
      "\u001b[0;32m<ipython-input-13-46ea64460a76>\u001b[0m in \u001b[0;36m<module>\u001b[0;34m\u001b[0m\n\u001b[1;32m     16\u001b[0m \u001b[0mit\u001b[0m \u001b[0;34m=\u001b[0m \u001b[0maccumulator\u001b[0m\u001b[0;34m(\u001b[0m\u001b[0;36m0\u001b[0m\u001b[0;34m,\u001b[0m \u001b[0;36m1\u001b[0m\u001b[0;34m)\u001b[0m\u001b[0;34m\u001b[0m\u001b[0;34m\u001b[0m\u001b[0m\n\u001b[1;32m     17\u001b[0m \u001b[0;32mfor\u001b[0m \u001b[0mi\u001b[0m \u001b[0;32min\u001b[0m \u001b[0mrange\u001b[0m\u001b[0;34m(\u001b[0m\u001b[0;36m10\u001b[0m\u001b[0;34m)\u001b[0m\u001b[0;34m:\u001b[0m\u001b[0;34m\u001b[0m\u001b[0;34m\u001b[0m\u001b[0m\n\u001b[0;32m---> 18\u001b[0;31m     \u001b[0mprint\u001b[0m\u001b[0;34m(\u001b[0m\u001b[0mit\u001b[0m\u001b[0;34m.\u001b[0m\u001b[0msend\u001b[0m\u001b[0;34m(\u001b[0m\u001b[0;36m1\u001b[0m\u001b[0;34m)\u001b[0m\u001b[0;34m,\u001b[0m \u001b[0mend\u001b[0m\u001b[0;34m=\u001b[0m\u001b[0;34m' '\u001b[0m\u001b[0;34m)\u001b[0m\u001b[0;34m\u001b[0m\u001b[0;34m\u001b[0m\u001b[0m\n\u001b[0m",
      "\u001b[0;31mTypeError\u001b[0m: can't send non-None value to a just-started generator"
     ]
    }
   ],
   "source": [
    "def accumulator(zero, one):\n",
    "    val = zero\n",
    "    while True:\n",
    "        val = yield val\n",
    "        val += one\n",
    "        \n",
    "# 使用 send 来进行交互\n",
    "it = accumulator(0, 1)\n",
    "prev = next(it)\n",
    "for i in range(10):\n",
    "    print(prev, end=' ')\n",
    "    prev = it.send(prev + 1)\n",
    "\n",
    "# 错误的写法\n",
    "# TypeError: can't send non-None value to a just-started generator\n",
    "it = accumulator(0, 1)\n",
    "for i in range(10):\n",
    "    print(it.send(1), end=' ')"
   ]
  },
  {
   "cell_type": "code",
   "execution_count": 18,
   "metadata": {},
   "outputs": [
    {
     "name": "stdout",
     "output_type": "stream",
     "text": [
      "0 1 2 3 4 5 6 7 8 9 \n",
      "0 1 2 3 4 5 6 7 8 9 "
     ]
    }
   ],
   "source": [
    "# 生成器的 throw\n",
    "def accumulator(zero, one):\n",
    "    val = zero\n",
    "    while True:\n",
    "        try:\n",
    "            yield val\n",
    "            val += one\n",
    "        except RuntimeError:\n",
    "            val = zero\n",
    "            \n",
    "# 使用 throw 来进行交互\n",
    "it = accumulator(0, 1)\n",
    "for i in range(10):\n",
    "    print(next(it), end=' ')\n",
    "print()\n",
    "print(it.throw(RuntimeError), end=' ')\n",
    "for i in range(9):\n",
    "    print(next(it), end=' ')"
   ]
  },
  {
   "cell_type": "code",
   "execution_count": 19,
   "metadata": {},
   "outputs": [
    {
     "name": "stdout",
     "output_type": "stream",
     "text": [
      "0 1 2 3 4 5 6 7 8 9 "
     ]
    },
    {
     "ename": "StopIteration",
     "evalue": "",
     "output_type": "error",
     "traceback": [
      "\u001b[0;31m---------------------------------------------------------------------------\u001b[0m",
      "\u001b[0;31mStopIteration\u001b[0m                             Traceback (most recent call last)",
      "\u001b[0;32m<ipython-input-19-a1f5ad4e76e5>\u001b[0m in \u001b[0;36m<module>\u001b[0;34m\u001b[0m\n\u001b[1;32m     14\u001b[0m     \u001b[0mprint\u001b[0m\u001b[0;34m(\u001b[0m\u001b[0mnext\u001b[0m\u001b[0;34m(\u001b[0m\u001b[0mit\u001b[0m\u001b[0;34m)\u001b[0m\u001b[0;34m,\u001b[0m \u001b[0mend\u001b[0m\u001b[0;34m=\u001b[0m\u001b[0;34m' '\u001b[0m\u001b[0;34m)\u001b[0m\u001b[0;34m\u001b[0m\u001b[0;34m\u001b[0m\u001b[0m\n\u001b[1;32m     15\u001b[0m \u001b[0mit\u001b[0m\u001b[0;34m.\u001b[0m\u001b[0mclose\u001b[0m\u001b[0;34m(\u001b[0m\u001b[0;34m)\u001b[0m\u001b[0;34m\u001b[0m\u001b[0;34m\u001b[0m\u001b[0m\n\u001b[0;32m---> 16\u001b[0;31m \u001b[0mprint\u001b[0m\u001b[0;34m(\u001b[0m\u001b[0mnext\u001b[0m\u001b[0;34m(\u001b[0m\u001b[0mit\u001b[0m\u001b[0;34m)\u001b[0m\u001b[0;34m)\u001b[0m\u001b[0;34m\u001b[0m\u001b[0;34m\u001b[0m\u001b[0m\n\u001b[0m",
      "\u001b[0;31mStopIteration\u001b[0m: "
     ]
    }
   ],
   "source": [
    "# 生成器的 close\n",
    "def accumulator(zero, one):\n",
    "    val = zero\n",
    "    while True:\n",
    "        try:\n",
    "            yield val\n",
    "            val += one\n",
    "        except RuntimeError:\n",
    "            val = zero\n",
    "\n",
    "# 使用 close 来进行交互\n",
    "it = accumulator(0, 1)\n",
    "for i in range(10):\n",
    "    print(next(it), end=' ')\n",
    "it.close()\n",
    "# close 之后再调用生成器会报错\n",
    "print(next(it))"
   ]
  },
  {
   "cell_type": "code",
   "execution_count": null,
   "metadata": {},
   "outputs": [],
   "source": []
  }
 ],
 "metadata": {
  "kernelspec": {
   "display_name": "Python 3",
   "language": "python",
   "name": "python3"
  },
  "language_info": {
   "codemirror_mode": {
    "name": "ipython",
    "version": 3
   },
   "file_extension": ".py",
   "mimetype": "text/x-python",
   "name": "python",
   "nbconvert_exporter": "python",
   "pygments_lexer": "ipython3",
   "version": "3.7.2"
  }
 },
 "nbformat": 4,
 "nbformat_minor": 2
}
