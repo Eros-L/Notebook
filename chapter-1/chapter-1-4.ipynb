{
 "cells": [
  {
   "cell_type": "markdown",
   "metadata": {},
   "source": [
    "1.4 变量类型"
   ]
  },
  {
   "cell_type": "markdown",
   "metadata": {},
   "source": [
    "1.4.1 Numbers"
   ]
  },
  {
   "cell_type": "code",
   "execution_count": 1,
   "metadata": {},
   "outputs": [
    {
     "name": "stdout",
     "output_type": "stream",
     "text": [
      "2 0b10\n",
      "8 0o10\n",
      "16 0x10\n",
      "(10+0.1j) (10+0.1j)\n"
     ]
    }
   ],
   "source": [
    "# binary numbers\n",
    "num1, num2 = 0b10, bin(2)\n",
    "print(num1, num2)\n",
    "# octal numbers\n",
    "num1, num2 = 0o10, oct(8)\n",
    "print(num1, num2)\n",
    "# hex numbers\n",
    "num1, num2 = 0x10, hex(16)\n",
    "print(num1, num2)\n",
    "\n",
    "# complex numbers & scientific notation\n",
    "num1, num2 = 10 + 0.1j, 1e1 + 1E-1J\n",
    "print(num1, num2)"
   ]
  },
  {
   "cell_type": "markdown",
   "metadata": {},
   "source": [
    "1.4.2 String"
   ]
  },
  {
   "cell_type": "code",
   "execution_count": 2,
   "metadata": {},
   "outputs": [
    {
     "name": "stdout",
     "output_type": "stream",
     "text": [
      "6\n",
      "\\\n",
      "'\n",
      "\"\n",
      "hello\n",
      "world\n",
      "hello\tworld\n",
      "big\t\tdata\n",
      "\u0007\n",
      "xy\bz\n",
      "\r",
      "hello world\n",
      "hello\u000b",
      "world\n",
      "hello\f",
      "world\n",
      "x\u0000y\n"
     ]
    }
   ],
   "source": [
    "# 续行符\n",
    "result = 1 + \\\n",
    "         2 + \\\n",
    "         3\n",
    "print(result)\n",
    "# 反斜杠\n",
    "print(\"\\\\\")\n",
    "# 单引号\n",
    "print(\"\\'\")\n",
    "# 双引号\n",
    "print(\"\\\"\")\n",
    "# 换行符\n",
    "print(\"hello\\nworld\")\n",
    "# 制表符\n",
    "print(\"hello\\tworld\\nbig\\t\\tdata\")\n",
    "# 响铃符\n",
    "print(\"\\a\")\n",
    "# 退格符\n",
    "print(\"xy\\bz\")\n",
    "# 回车符\n",
    "print(\"\\rhello world\")\n",
    "# 纵向制表符\n",
    "print(\"hello\\vworld\")\n",
    "# 换页符\n",
    "print(\"hello\\fworld\")\n",
    "# 空\n",
    "print(\"x\\000y\")"
   ]
  },
  {
   "cell_type": "code",
   "execution_count": 3,
   "metadata": {},
   "outputs": [
    {
     "name": "stdout",
     "output_type": "stream",
     "text": [
      "hello world\n",
      "hello world!!!\n",
      "hello hello hello world\n",
      "h w\n",
      "hello \n",
      "ello \n",
      "hell\n",
      "ell\n",
      "ell\n",
      "hello world\n",
      "dlrow olleh\n",
      "lleh\n",
      " olle\n",
      "lle\n",
      "lle\n",
      "dlrow olleh\n",
      "True\n",
      "False\n",
      "False\n",
      "True\n",
      "True\n",
      "big\n",
      "data\n",
      "big\\ndata\n",
      "big\\ndata\n"
     ]
    }
   ],
   "source": [
    "var1, var2 = 'hello ', 'world'\n",
    "# +，字符串连接\n",
    "var3 = var1 + var2\n",
    "print(var3)\n",
    "print(var3 + \"!!!\")\n",
    "# *，重复输出字符串\n",
    "print(var1 * 3 + var2)\n",
    "# [], 通过索引获取字符串中字符\n",
    "print(var1[0], var2[0])\n",
    "# [:]，截取字符串中的一部分，遵循左闭右开原则\n",
    "# 常规操作\n",
    "print(var1[:])             # 输出完整字符串\n",
    "print(var1[1:])            # 输出第二个字符到最后一个字符\n",
    "print(var1[:4])           # 输出第一个字符到第四个字符\n",
    "print(var1[1:4])          # 输出第二个字符到第四个字符\n",
    "print(var1[-5:-2])      # 输出倒数第五个字符到倒数第三个字符\n",
    "# 截取步长\n",
    "var4 = \"h e l l o   w o r l d\"\n",
    "print(var4[::2])\n",
    "# 倒序输出\n",
    "print(var3[::-1])\n",
    "print(var3[3::-1])\n",
    "print(var1[:0:-1])\n",
    "print(var1[3:0:-1])\n",
    "print(var1[-3:-6:-1])\n",
    "print(var4[::-2])\n",
    "# in，成员运算符\n",
    "print('h' in var1)\n",
    "print('a' in var1)\n",
    "print('h' not in var1)\n",
    "print('a' not in var1)\n",
    "print('orl' in var2)\n",
    "# r/R，原始字符串\n",
    "print('big\\ndata')\n",
    "print(r'big\\ndata')\n",
    "print(R'big\\ndata')"
   ]
  },
  {
   "cell_type": "code",
   "execution_count": 6,
   "metadata": {},
   "outputs": [
    {
     "name": "stdout",
     "output_type": "stream",
     "text": [
      "{}\n",
      "hello world\n",
      "-2019 + 2020 = 1\n",
      "1 + 2 = 3\n",
      "10 = 10\n",
      "a0 = a0\n",
      "A0 = A0\n",
      "3.141593\n",
      "3.141593e+00\n",
      "3.141593E+00\n",
      "3.14159\n",
      "3.14159\n",
      "104ca76c8\n",
      "     3.142\n",
      "     3.142\n",
      "3.142     \n",
      "+3.141593\n",
      " 3.141593\n",
      "0o170, 0x78, 0X78\n",
      "000003.142\n",
      "%d2020\n"
     ]
    }
   ],
   "source": [
    "pi = 3.141592653589793\n",
    "\n",
    "# %c，格式化字符及其 ASCII 码\n",
    "print(\"%c%c\" % (123, \"}\"))\n",
    "# %s，格式化字符串\n",
    "print(\"%s %s\" % ('hello', 'world'))\n",
    "# %d，格式化整数\n",
    "print(\"%d + %d = %d\" % (-2019, 2020, -2019 + 2020))\n",
    "# %u，格式化无符号整型\n",
    "print(\"%u + %u = %u\" % (1, 2, 1 + 2))\n",
    "# %o，格式化无符号八进制数\n",
    "print(\"%o = %o\" % (0o10, 8))\n",
    "# %x\\%X，格式化无符号十六进制数\n",
    "print(\"%x = %x\" % (0xa0, 160))\n",
    "print(\"%X = %X\" % (0xa0, 160))\n",
    "# %f，格式化浮点数字，可指定小数点后的精度\n",
    "print(\"%f\" % pi)\n",
    "# %e\\%E，用科学计数法格式化浮点数\n",
    "print(\"%e\" % pi)\n",
    "print(\"%E\" % pi)\n",
    "# %g，%f 和 %e 的简写\n",
    "print(\"%g\" % pi)\n",
    "# %G，%f 和 %E 的简写\n",
    "print(\"%G\" % pi)\n",
    "# 用十六进制数格式化变量的地址\n",
    "num = [1, 2, 3]\n",
    "print(\"%x\" % id(num))\n",
    "\n",
    "# *，定义宽度或者小数点精度\n",
    "print(\"%*.*f\" % (10, 3, pi))\n",
    "# -，左对齐\n",
    "print(\"%10.3f\" % pi)\n",
    "print(\"%-10.3f\" % pi)\n",
    "# +，在正数前面显示加号\n",
    "print(\"%+f\" % pi)\n",
    "# <sp>，在正数前面显示空格\n",
    "print(\"% f\" % pi)\n",
    "# # 在八进制数前面显示 '0'，在十六进制前面显示 '0x' 或者 '0X'\n",
    "print(\"%#o, %#x, %#X\" % (120, 120, 120))\n",
    "# 0，显示的数字前面填充\n",
    "print(\"%010.3f\" % pi)\n",
    "# %，'%%' 输出一个单一的 '%'\n",
    "print(\"%%d%d\" % 2020)"
   ]
  },
  {
   "cell_type": "markdown",
   "metadata": {},
   "source": [
    "1.4.3 List"
   ]
  },
  {
   "cell_type": "code",
   "execution_count": 7,
   "metadata": {},
   "outputs": [
    {
     "name": "stdout",
     "output_type": "stream",
     "text": [
      "list1[0]:  Google\n",
      "list2[1:5]:  [2, 3, 4, 5]\n",
      "第三个元素为 :  1997\n",
      "更新后的第三个元素为 :  2001\n",
      "原始列表 :  ['Google', 'Now', 2001, 2020]\n",
      "删除第三个元素 :  ['Google', 'Now', 2020]\n"
     ]
    }
   ],
   "source": [
    "list1 = ['Google', 'Now', 1997, 2020]\n",
    "list2 = list(range(1, 7))\n",
    "\n",
    "# 访问\n",
    "print(\"list1[0]: \", list1[0])\n",
    "print(\"list2[1:5]: \", list2[1:5])\n",
    "# 更新\n",
    "print(\"第三个元素为 : \", list1[2])\n",
    "list1[2] = 2001\n",
    "print(\"更新后的第三个元素为 : \", list1[2])\n",
    "# 删除\n",
    "print(\"原始列表 : \", list1)\n",
    "del list1[2]\n",
    "# 或 list1.pop(2)\n",
    "print(\"删除第三个元素 : \", list1)"
   ]
  },
  {
   "cell_type": "code",
   "execution_count": 3,
   "metadata": {},
   "outputs": [
    {
     "name": "stdout",
     "output_type": "stream",
     "text": [
      "3\n",
      "[1, 2, 3, 4, 5, 6]\n",
      "[1, 2, 3, 1, 2, 3, 1, 2, 3]\n",
      "True\n",
      "1 2 3 \n",
      " [3, 6, 9]\n",
      "[(1, 1), (2, 4), (3, 9)]\n",
      "[b'\\x00\\x01', b'\\x00\\x02', b'\\x00\\x03']\n",
      "[1, 9]\n",
      "[5, 6, 7, 6, 7, 8, 7, 8, 9]\n"
     ]
    }
   ],
   "source": [
    "list1, list2 = [1, 2, 3], [4, 5, 6]\n",
    "\n",
    "# 长度\n",
    "print(len(list1))\n",
    "# 组合\n",
    "print(list1 + list2)\n",
    "# 重复\n",
    "print(list1 * 3)\n",
    "# 元素是否存在于列表中\n",
    "print(3 in list1)\n",
    "for x in list1:\n",
    "    print(x, end=' ')\n",
    "# 列表推导式：语法糖，基于现有列表创建新列表\n",
    "list3 = [3 * x for x in list1]\n",
    "print('\\n', list3)\n",
    "# 对同一个 x 生成多个元素\n",
    "list4 = [(x, x ** 2) for x in list1]\n",
    "print(list4)\n",
    "# 对 x 调用函数\n",
    "list5 = [x.to_bytes(length=2, byteorder='big') for x in list1]\n",
    "print(list5)\n",
    "# 添加过滤器\n",
    "list6 = [x ** 2 for x in list1 if x % 2 == 1]\n",
    "print(list6)\n",
    "# 嵌套循环\n",
    "list7 = [x + y for x in list1 for y in list2]\n",
    "print(list7)"
   ]
  },
  {
   "cell_type": "markdown",
   "metadata": {},
   "source": [
    "1.4.4 Tuple"
   ]
  },
  {
   "cell_type": "code",
   "execution_count": 14,
   "metadata": {},
   "outputs": [
    {
     "name": "stdout",
     "output_type": "stream",
     "text": [
      "tup1[0]:  Google\n",
      "tup2[1:5]:  (2, 3, 4, 5)\n",
      "('Google', 'Now', 1997, 2020, 1, 2, 3, 4, 5, 6, 7)\n"
     ]
    },
    {
     "ename": "NameError",
     "evalue": "name 'tup3' is not defined",
     "output_type": "error",
     "traceback": [
      "\u001b[0;31m---------------------------------------------------------------------------\u001b[0m",
      "\u001b[0;31mNameError\u001b[0m                                 Traceback (most recent call last)",
      "\u001b[0;32m<ipython-input-14-be68fec9466b>\u001b[0m in \u001b[0;36m<module>\u001b[0;34m\u001b[0m\n\u001b[1;32m     10\u001b[0m \u001b[0;31m# 删除元组\u001b[0m\u001b[0;34m\u001b[0m\u001b[0;34m\u001b[0m\u001b[0;34m\u001b[0m\u001b[0m\n\u001b[1;32m     11\u001b[0m \u001b[0;32mdel\u001b[0m \u001b[0mtup3\u001b[0m\u001b[0;34m\u001b[0m\u001b[0;34m\u001b[0m\u001b[0m\n\u001b[0;32m---> 12\u001b[0;31m \u001b[0mprint\u001b[0m\u001b[0;34m(\u001b[0m\u001b[0mtup3\u001b[0m\u001b[0;34m)\u001b[0m\u001b[0;34m\u001b[0m\u001b[0;34m\u001b[0m\u001b[0m\n\u001b[0m",
      "\u001b[0;31mNameError\u001b[0m: name 'tup3' is not defined"
     ]
    }
   ],
   "source": [
    "tup1 = ('Google', 'Now', 1997, 2020)\n",
    "tup2 = (1, 2, 3, 4, 5, 6, 7)\n",
    "\n",
    "# 访问元组\n",
    "print(\"tup1[0]: \", tup1[0])\n",
    "print(\"tup2[1:5]: \", tup2[1:5])\n",
    "# 修改元组\n",
    "tup3 = tup1 + tup2\n",
    "print(tup3)\n",
    "# 删除元组\n",
    "del tup3\n",
    "print(tup3)"
   ]
  },
  {
   "cell_type": "code",
   "execution_count": 15,
   "metadata": {},
   "outputs": [
    {
     "name": "stdout",
     "output_type": "stream",
     "text": [
      "Google Now 1997 2020\n",
      "('GoogleGoogle', 'NowNow', 3994, 4040)\n",
      "('Google', 'Now', 1997, 1999)\n",
      "('Google', 'Now', 1997, 2020)\n",
      "(1, 5, 6, 7)\n"
     ]
    }
   ],
   "source": [
    "tup1 = ('Google', 'Now', 1997, 2020)\n",
    "tup2 = (1, 2, 3, 4, 5, 6, 7)\n",
    "# 获取元组元素\n",
    "str1, str2, num1, num2 = tup1\n",
    "print(str1, str2, num1, num2)\n",
    "# 语法糖，基于现有元组新建元组\n",
    "tup3 = tuple(2 * x for x in tup1)\n",
    "print(tup3)\n",
    "# 强行修改元组\n",
    "tup1 = ('Google', 'Now', 1997, 1999)\n",
    "print(tup1)\n",
    "tup1 = list(tup1)\n",
    "tup1[-1] = 2020\n",
    "tup1 = tuple(tup1)\n",
    "print(tup1)\n",
    "# 强行删除元组\n",
    "tup2 = list(tup2)\n",
    "del tup2[1:4]\n",
    "tup2 = tuple(tup2)\n",
    "print(tup2)"
   ]
  },
  {
   "cell_type": "markdown",
   "metadata": {},
   "source": [
    "1.4.5 Dictionary"
   ]
  },
  {
   "cell_type": "code",
   "execution_count": 16,
   "metadata": {},
   "outputs": [
    {
     "name": "stdout",
     "output_type": "stream",
     "text": [
      "dict['Alice']:  2341\n",
      "dict['Cecil']:  3258\n",
      "{'Alice': '1432', 'Beth': '9102', 'Cecil': '3258', 'Eddie': '1996'}\n",
      "{'Alice': '1432', 'Beth': '9102', 'Cecil': '3258'}\n"
     ]
    }
   ],
   "source": [
    "dict1 = {'Alice': '2341', 'Beth': '9102', 'Cecil': '3258'}\n",
    "\n",
    "# 访问\n",
    "print(\"dict['Alice']: \", dict1['Alice'])\n",
    "print(\"dict['Cecil']: \", dict1['Cecil'])\n",
    "# 修改\n",
    "dict1['Alice'] = '1432'\n",
    "dict1['Eddie'] = '1996'\n",
    "print(dict1)\n",
    "# 删除\n",
    "del dict1['Eddie']\n",
    "# dict1.clear() 清空字典\n",
    "print(dict1)"
   ]
  },
  {
   "cell_type": "code",
   "execution_count": 17,
   "metadata": {},
   "outputs": [
    {
     "name": "stdout",
     "output_type": "stream",
     "text": [
      "True\n",
      "0.0016560554504394531\n",
      "True\n",
      "0.00015401840209960938\n"
     ]
    }
   ],
   "source": [
    "import time\n",
    "\n",
    "# 比较 list 与 dict 的查找速度\n",
    "list1 = list(range(int(1e7)))\n",
    "dict1 = dict(zip(list1, list1))\n",
    "\n",
    "t1 = time.time()\n",
    "print(54502 in list1)\n",
    "t2 = time.time()\n",
    "print(t2 - t1)\n",
    "\n",
    "t1 = time.time()\n",
    "print(54502 in dict1)\n",
    "t2 = time.time()\n",
    "print(t2 - t1)"
   ]
  },
  {
   "cell_type": "code",
   "execution_count": 18,
   "metadata": {},
   "outputs": [
    {
     "name": "stdout",
     "output_type": "stream",
     "text": [
      "{'Alice': 2341, 'Beth': 9102, 'Cecil': 3258}\n",
      "{'Alice': 2341, 'Beth': 9102, 'Cecil': 3258}\n"
     ]
    }
   ],
   "source": [
    "# 另外两种创建 dict 的方法\n",
    "name = ['Alice', 'Beth', 'Cecil']\n",
    "identifier = [2341, 9102, 3258]\n",
    "\n",
    "dict1 = dict(zip(name, identifier))\n",
    "print(dict1)\n",
    "\n",
    "dict2 = dict(Alice=2341, Beth=9102, Cecil=3258)\n",
    "print(dict2)"
   ]
  },
  {
   "cell_type": "code",
   "execution_count": 19,
   "metadata": {},
   "outputs": [
    {
     "name": "stdout",
     "output_type": "stream",
     "text": [
      "{'orange', 'apple', 'pear', 'banana'}\n",
      "True\n",
      "False\n",
      "{'c', 'b', 'r', 'a', 'd'}\n",
      "{'m', 'c', 'l', 'z', 'a'}\n",
      "{'r', 'd', 'b'}\n",
      "{'r', 'd', 'b'}\n",
      "{'m', 'b', 'c', 'l', 'r', 'a', 'z', 'd'}\n",
      "{'m', 'b', 'c', 'l', 'r', 'a', 'z', 'd'}\n",
      "{'a', 'c'}\n",
      "{'a', 'c'}\n",
      "{'l', 'r', 'm', 'z', 'd', 'b'}\n",
      "{'l', 'm', 'r', 'z', 'd', 'b'}\n"
     ]
    }
   ],
   "source": [
    "basket = {'apple', 'orange', 'apple', 'pear', 'orange', 'banana'}\n",
    "# 去重\n",
    "print(basket)\n",
    "\n",
    "# 快速判断元素是否在集合内\n",
    "print('orange' in basket)\n",
    "print('crabgrass' in basket)\n",
    "\n",
    "# 两个集合间的运算\n",
    "a = set('abracadabra')\n",
    "b = set('alacazam')\n",
    "print(a)\n",
    "print(b)\n",
    "# 集合 a 中包含而集合 b 中不包含的元素\n",
    "print(a - b)\n",
    "print(a.difference(b))\n",
    "# 集合 a 或 b 中包含的所有元素\n",
    "print(a | b)\n",
    "print(a.union(b))\n",
    "# 集合 a 和 b 中都包含了的元素\n",
    "print(a & b)\n",
    "print(a.intersection(b))\n",
    "# 不同时包含于 a 和 b 的元素\n",
    "print(a ^ b)\n",
    "print(a.difference(b).union(b.difference(a)))"
   ]
  },
  {
   "cell_type": "code",
   "execution_count": 21,
   "metadata": {},
   "outputs": [
    {
     "name": "stdout",
     "output_type": "stream",
     "text": [
      "{'Alibaba', 'Google', 'Facebook', 'Tencent'}\n",
      "{'Alibaba', 'Facebook', 'Tencent', 'Google', 'Baidu', 'ByteDance', 'Microsoft'}\n",
      "{'Alibaba', 'Facebook', 'Tencent', 'Google', 'ByteDance', 'Microsoft'}\n",
      "{'Alibaba', 'Facebook', 'Tencent', 'Google', 'Microsoft'}\n"
     ]
    }
   ],
   "source": [
    "company = {\"Google\", \"Tencent\", \"Alibaba\"}\n",
    "\n",
    "# 添加\n",
    "company.add(\"Facebook\")\n",
    "print(company)\n",
    "company.update({\"Baidu\", \"Microsoft\", \"ByteDance\"})\n",
    "print(company)\n",
    "# 移除\n",
    "company.remove(\"Baidu\")\n",
    "print(company)\n",
    "company.discard(\"ByteDance\")\n",
    "print(company)"
   ]
  },
  {
   "cell_type": "code",
   "execution_count": null,
   "metadata": {},
   "outputs": [],
   "source": []
  }
 ],
 "metadata": {
  "kernelspec": {
   "display_name": "Python 3",
   "language": "python",
   "name": "python3"
  },
  "language_info": {
   "codemirror_mode": {
    "name": "ipython",
    "version": 3
   },
   "file_extension": ".py",
   "mimetype": "text/x-python",
   "name": "python",
   "nbconvert_exporter": "python",
   "pygments_lexer": "ipython3",
   "version": "3.7.2"
  }
 },
 "nbformat": 4,
 "nbformat_minor": 2
}
