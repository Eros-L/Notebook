{
 "cells": [
  {
   "cell_type": "markdown",
   "metadata": {},
   "source": [
    "1.14 文件读取"
   ]
  },
  {
   "cell_type": "code",
   "execution_count": 5,
   "metadata": {},
   "outputs": [
    {
     "name": "stdout",
     "output_type": "stream",
     "text": [
      "2020.01.27\n",
      "16:25 - 18:30   Hong Kong Express UO702\n",
      "18:30 - 19:30   Airport Rail Link, 機場快軌; Taxi\n",
      "19:30 - 20:00   Check-in, 考山路\n",
      "20:00 - 22:00   Khao San Road, 考山路\n",
      "\n",
      "2020.01.28\n",
      "09:40 - 11:05   Thai Lion Air SL756\n",
      "11:05 - 12:05   Mini Bus\n",
      "12:05 - 12:35   Check-in, 普吉鎮\n",
      "12:35 - 15:00   Phuket Town, 普吉鎮\n",
      "17:00 - 18:00   Promthep Cape, 神仙半島\n",
      "18:30 - 21:00   Rawai Seafood Market, 拉威海鮮市場\n",
      "\n",
      "2020.01.29\n",
      "Similan Archipelago, 斯米蘭島\n",
      "\n",
      "2020.01.30\n",
      "Patong Beach, 芭東海灘\n",
      "Bangla Road, 芭東酒吧街; Patong OTOP Shopping Paradise, 芭東夜市\n",
      "\n",
      "2020.01.31\n",
      "10:20 - 11:50   Vietjet Air VZ303\n",
      "12:50 - 14:30   Wat Phra Kaew, 玉佛寺; The Grand Palace, 曼谷大皇宮\n",
      "14:30 - 16:00   Bangkok National Museum, 曼谷國家博物館\n",
      "19:00 - 21:00   Chao Phraya River, 湄南河\n",
      "\n"
     ]
    }
   ],
   "source": [
    "f = open('/Users/Eddie/Desktop/Sample.md', mode='r')\n",
    "print(f.read())\n",
    "f.close()"
   ]
  },
  {
   "cell_type": "code",
   "execution_count": 8,
   "metadata": {},
   "outputs": [
    {
     "name": "stdout",
     "output_type": "stream",
     "text": [
      "2020.01.27\n",
      "16:25 - 18:30   Hong Kong Express UO702\n",
      "18:30 - 19:30   Airport Rail Link, 機場快軌; Taxi\n",
      "19:\n",
      "30 - 20:00   Check-in, 考山路\n",
      "\n",
      "['20:00 - 22:00   Khao San Road, 考山路\\n', '\\n', '2020.01.28\\n', '09:40 - 11:05   Thai Lion Air SL756\\n', '11:05 - 12:05   Mini Bus\\n', '12:05 - 12:35   Check-in, 普吉鎮\\n', '12:35 - 15:00   Phuket Town, 普吉鎮\\n', '17:00 - 18:00   Promthep Cape, 神仙半島\\n']\n",
      "0\n",
      "2020.01.27\n",
      "\n"
     ]
    }
   ],
   "source": [
    "f = open('/Users/Eddie/Desktop/Sample.md', mode='r')\n",
    "# 为了读取一个文件的内容，调用 f.read(size), 这将读取一定数目的数据, 然后作为字符串或字节对象返回。\n",
    "print(f.read(100))\n",
    "# f.readline() 会从文件中读取单独的一行。换行符为 '\\n'。f.readline() 如果返回一个空字符串, 说明已经已经读取到最后一行。\n",
    "print(f.readline())\n",
    "# f.readlines() 将返回该文件中包含的所有行。如果设置可选参数 sizehint, 则读取指定长度的字节, 并且将这些字节按行分割。\n",
    "print(f.readlines(200))\n",
    "# 如果要改变文件当前的位置, 可以使用 f.seek(offset, from_what) 函数。from_what 的值, 如果是 0 表示开头, 如果是 1 表示当前位置, 2 表示文件的结尾。\n",
    "# 此处为返回文件开头\n",
    "f.seek(0, 0)\n",
    "# f.tell() 返回文件对象当前所处的位置, 它是从文件开头开始算起的字节数。\n",
    "print(f.tell())\n",
    "print(f.readline())\n",
    "# 当你处理完一个文件后, 调用 f.close() 来关闭文件并释放系统的资源，如果尝试再调用该文件，则会抛出异常。\n",
    "f.close()"
   ]
  },
  {
   "cell_type": "code",
   "execution_count": 14,
   "metadata": {},
   "outputs": [
    {
     "name": "stdout",
     "output_type": "stream",
     "text": [
      "23\n",
      "\n",
      "2020.01.27\n",
      "16:25 - 18:30   Hong Kong Express UO702\n",
      "18:30 - 19:30   Airport Rail Link, 機場快軌; Taxi\n",
      "19:30 - 20:00   Check-in, 考山路\n",
      "20:00 - 22:00   Khao San Road, 考山路\n",
      "\n",
      "2020.01.28\n",
      "09:40 - 11:05   Thai Lion Air SL756\n",
      "11:05 - 12:05   Mini Bus\n",
      "12:05 - 12:35   Check-in, 普吉鎮\n",
      "12:35 - 15:00   Phuket Town, 普吉鎮\n",
      "17:00 - 18:00   Promthep Cape, 神仙半島\n",
      "18:30 - 21:00   Rawai Seafood Market, 拉威海鮮市場\n",
      "\n",
      "2020.01.29\n",
      "Similan Archipelago, 斯米蘭島\n",
      "\n",
      "2020.01.30\n",
      "Patong Beach, 芭東海灘\n",
      "Bangla Road, 芭東酒吧街; Patong OTOP Shopping Paradise, 芭東夜市\n",
      "\n",
      "2020.01.31\n",
      "10:20 - 11:50   Vietjet Air VZ303\n",
      "12:50 - 14:30   Wat Phra Kaew, 玉佛寺; The Grand Palace, 曼谷大皇宮\n",
      "14:30 - 16:00   Bangkok National Museum, 曼谷國家博物館\n",
      "19:00 - 21:00   Chao Phraya River, 湄南河\n",
      "-- insert a new line --\n"
     ]
    }
   ],
   "source": [
    "# 打开文件\n",
    "f = open('/Users/Eddie/Desktop/Sample.md', mode='a+')\n",
    "# 续写一行新的数据\n",
    "num_of_bytes = f.write(\"-- insert a new line --\")\n",
    "# 写入的字节数，写入后会指针会跳到末尾\n",
    "print(num_of_bytes)\n",
    "print(f.read())\n",
    "# 将指针重置到文件开头\n",
    "f.seek(0, 0)\n",
    "# 输出文件\n",
    "print(f.read())\n",
    "# 关闭文件\n",
    "f.close()"
   ]
  },
  {
   "cell_type": "code",
   "execution_count": 15,
   "metadata": {},
   "outputs": [
    {
     "name": "stdout",
     "output_type": "stream",
     "text": [
      "2020.01.27\n",
      "\n",
      "True\n"
     ]
    }
   ],
   "source": [
    "# 使用 with 语句\n",
    "with open('/Users/Eddie/Desktop/Sample.md', mode='r') as f:\n",
    "    data = f.readline()\n",
    "print(data)\n",
    "print(f.closed)"
   ]
  },
  {
   "cell_type": "markdown",
   "metadata": {},
   "source": [
    "1.14.1 pickle 模块"
   ]
  },
  {
   "cell_type": "code",
   "execution_count": 19,
   "metadata": {},
   "outputs": [
    {
     "ename": "ModuleNotFoundError",
     "evalue": "No module named 'sklearn'",
     "output_type": "error",
     "traceback": [
      "\u001b[0;31m---------------------------------------------------------------------------\u001b[0m",
      "\u001b[0;31mModuleNotFoundError\u001b[0m                       Traceback (most recent call last)",
      "\u001b[0;32m<ipython-input-19-2898c18b25be>\u001b[0m in \u001b[0;36m<module>\u001b[0;34m\u001b[0m\n\u001b[1;32m      1\u001b[0m \u001b[0;32mimport\u001b[0m \u001b[0mpickle\u001b[0m\u001b[0;34m\u001b[0m\u001b[0;34m\u001b[0m\u001b[0m\n\u001b[0;32m----> 2\u001b[0;31m \u001b[0;32mfrom\u001b[0m \u001b[0msklearn\u001b[0m\u001b[0;34m.\u001b[0m\u001b[0mtree\u001b[0m \u001b[0;32mimport\u001b[0m \u001b[0mDecisionTreeRegressor\u001b[0m\u001b[0;34m\u001b[0m\u001b[0;34m\u001b[0m\u001b[0m\n\u001b[0m\u001b[1;32m      3\u001b[0m \u001b[0;34m\u001b[0m\u001b[0m\n\u001b[1;32m      4\u001b[0m \u001b[0;31m# 数据集\u001b[0m\u001b[0;34m\u001b[0m\u001b[0;34m\u001b[0m\u001b[0;34m\u001b[0m\u001b[0m\n\u001b[1;32m      5\u001b[0m \u001b[0mx_train\u001b[0m\u001b[0;34m,\u001b[0m \u001b[0my_train\u001b[0m \u001b[0;34m=\u001b[0m \u001b[0;34m[\u001b[0m\u001b[0;34m[\u001b[0m\u001b[0;36m1\u001b[0m\u001b[0;34m,\u001b[0m \u001b[0;36m2\u001b[0m\u001b[0;34m,\u001b[0m \u001b[0;36m3\u001b[0m\u001b[0;34m]\u001b[0m\u001b[0;34m,\u001b[0m \u001b[0;34m[\u001b[0m\u001b[0;36m4\u001b[0m\u001b[0;34m,\u001b[0m \u001b[0;36m5\u001b[0m\u001b[0;34m,\u001b[0m \u001b[0;36m6\u001b[0m\u001b[0;34m]\u001b[0m\u001b[0;34m,\u001b[0m \u001b[0;34m[\u001b[0m\u001b[0;36m7\u001b[0m\u001b[0;34m,\u001b[0m \u001b[0;36m8\u001b[0m\u001b[0;34m,\u001b[0m \u001b[0;36m9\u001b[0m\u001b[0;34m]\u001b[0m\u001b[0;34m,\u001b[0m \u001b[0;34m[\u001b[0m\u001b[0;34m-\u001b[0m\u001b[0;36m3\u001b[0m\u001b[0;34m,\u001b[0m \u001b[0;34m-\u001b[0m\u001b[0;36m2\u001b[0m\u001b[0;34m,\u001b[0m \u001b[0;34m-\u001b[0m\u001b[0;36m1\u001b[0m\u001b[0;34m]\u001b[0m\u001b[0;34m]\u001b[0m\u001b[0;34m,\u001b[0m \u001b[0;34m[\u001b[0m\u001b[0;36m0\u001b[0m\u001b[0;34m,\u001b[0m \u001b[0;36m1\u001b[0m\u001b[0;34m,\u001b[0m \u001b[0;36m1\u001b[0m\u001b[0;34m,\u001b[0m \u001b[0;36m0\u001b[0m\u001b[0;34m]\u001b[0m\u001b[0;34m\u001b[0m\u001b[0;34m\u001b[0m\u001b[0m\n",
      "\u001b[0;31mModuleNotFoundError\u001b[0m: No module named 'sklearn'"
     ]
    }
   ],
   "source": [
    "# 我在这个版本的 python 里没有安装 sklearn，安装后可运行\n",
    "import pickle\n",
    "from sklearn.tree import DecisionTreeRegressor\n",
    "\n",
    "# 数据集\n",
    "x_train, y_train = [[1, 2, 3], [4, 5, 6], [7, 8, 9], [-3, -2, -1]], [0, 1, 1, 0]\n",
    "# 使用 pickle 保存训练好的模型\n",
    "# 一般只于 scikit-learn。像 tensorflow 之类的框架有另外的保存方式\n",
    "\n",
    "# 训练模型\n",
    "tree = DecisionTreeRegressor()\n",
    "tree.fit(x_train, y_train)\n",
    "# 保存模型\n",
    "with open('save/sklearn.pickle', 'wb') as f:\n",
    "    pickle.dump(tree, f)\n",
    "\n",
    "# 读取模型\n",
    "with open('save/sklearn.pickle', 'rb') as f:\n",
    "    tree = pickle.load(f)\n",
    "# 预测\n",
    "pred = tree.predict([[1, 3, 5], [2, 4, 6]])\n",
    "print(pred)"
   ]
  },
  {
   "cell_type": "code",
   "execution_count": 18,
   "metadata": {},
   "outputs": [
    {
     "name": "stdout",
     "output_type": "stream",
     "text": [
      "dict_keys(['banana', 'apple', 'mango'])\n",
      "{'banana': 1, 'apple': 2, 'mango': 3}\n"
     ]
    }
   ],
   "source": [
    "import pickle\n",
    "\n",
    "# 使用 pickle 保存参数\n",
    "prices = {'banana': 1, 'apple': 2, 'mango': 3}\n",
    "\n",
    "# 保存参数\n",
    "with open('param.pkl', 'wb') as f:\n",
    "    pickle.dump(prices, f, -1)\n",
    "\n",
    "# 读取参数\n",
    "with open('param.pkl', 'rb') as f:\n",
    "    data = pickle.load(f)\n",
    "print(data.keys())\n",
    "print(data)"
   ]
  },
  {
   "cell_type": "code",
   "execution_count": null,
   "metadata": {},
   "outputs": [],
   "source": []
  }
 ],
 "metadata": {
  "kernelspec": {
   "display_name": "Python 3",
   "language": "python",
   "name": "python3"
  },
  "language_info": {
   "codemirror_mode": {
    "name": "ipython",
    "version": 3
   },
   "file_extension": ".py",
   "mimetype": "text/x-python",
   "name": "python",
   "nbconvert_exporter": "python",
   "pygments_lexer": "ipython3",
   "version": "3.7.2"
  }
 },
 "nbformat": 4,
 "nbformat_minor": 2
}
