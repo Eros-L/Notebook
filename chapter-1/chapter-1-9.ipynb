{
 "cells": [
  {
   "cell_type": "markdown",
   "metadata": {},
   "source": [
    "1.9 函数"
   ]
  },
  {
   "cell_type": "code",
   "execution_count": 22,
   "metadata": {},
   "outputs": [
    {
     "name": "stdout",
     "output_type": "stream",
     "text": [
      "2\n",
      "None\n",
      "3\n",
      "None\n"
     ]
    }
   ],
   "source": [
    "# 没有 return 语句时等同于 return None\n",
    "def add_one(num):\n",
    "    num += 1\n",
    "    print(num)\n",
    "    \n",
    "def add_two(num):\n",
    "    num += 2\n",
    "    print(num)\n",
    "    return None\n",
    "    \n",
    "print(add_one(1))\n",
    "print(add_two(1))"
   ]
  },
  {
   "cell_type": "code",
   "execution_count": 23,
   "metadata": {},
   "outputs": [
    {
     "name": "stdout",
     "output_type": "stream",
     "text": [
      "(2, 3, 4)\n"
     ]
    }
   ],
   "source": [
    "# 可以一次 return 多个值\n",
    "# return 多个值时，这些值会被自动封装成 tuple\n",
    "def add(num):\n",
    "    return num + 1, num + 2, num + 3\n",
    "\n",
    "print(add(1))"
   ]
  },
  {
   "cell_type": "markdown",
   "metadata": {},
   "source": [
    "1.9.1 参数传递"
   ]
  },
  {
   "cell_type": "code",
   "execution_count": 1,
   "metadata": {},
   "outputs": [
    {
     "name": "stdout",
     "output_type": "stream",
     "text": [
      "2\n",
      "1\n"
     ]
    }
   ],
   "source": [
    "# 不可变类型\n",
    "def add_one(num):\n",
    "    num += 1\n",
    "    print(num)\n",
    "    \n",
    "var = 1\n",
    "add_one(var)\n",
    "print(var)"
   ]
  },
  {
   "cell_type": "code",
   "execution_count": 3,
   "metadata": {},
   "outputs": [
    {
     "name": "stdout",
     "output_type": "stream",
     "text": [
      "[2, 3, 4, 5]\n",
      "[2, 3, 4, 5]\n"
     ]
    }
   ],
   "source": [
    "# 可变类型\n",
    "def add_one(data):\n",
    "    for i in range(len(data)):\n",
    "        data[i] += 1\n",
    "    print(data)\n",
    "\n",
    "l = [1, 2, 3, 4]\n",
    "add_one(l)\n",
    "print(l)"
   ]
  },
  {
   "cell_type": "markdown",
   "metadata": {},
   "source": [
    "1.9.2 参数"
   ]
  },
  {
   "cell_type": "code",
   "execution_count": 4,
   "metadata": {},
   "outputs": [
    {
     "name": "stdout",
     "output_type": "stream",
     "text": [
      "1\n"
     ]
    },
    {
     "ename": "TypeError",
     "evalue": "func() missing 1 required positional argument: 'param'",
     "output_type": "error",
     "traceback": [
      "\u001b[0;31m---------------------------------------------------------------------------\u001b[0m",
      "\u001b[0;31mTypeError\u001b[0m                                 Traceback (most recent call last)",
      "\u001b[0;32m<ipython-input-4-311f6f0b4327>\u001b[0m in \u001b[0;36m<module>\u001b[0;34m\u001b[0m\n\u001b[1;32m      4\u001b[0m \u001b[0;34m\u001b[0m\u001b[0m\n\u001b[1;32m      5\u001b[0m \u001b[0mfunc\u001b[0m\u001b[0;34m(\u001b[0m\u001b[0;36m1\u001b[0m\u001b[0;34m)\u001b[0m\u001b[0;34m\u001b[0m\u001b[0;34m\u001b[0m\u001b[0m\n\u001b[0;32m----> 6\u001b[0;31m \u001b[0mfunc\u001b[0m\u001b[0;34m(\u001b[0m\u001b[0;34m)\u001b[0m\u001b[0;34m\u001b[0m\u001b[0;34m\u001b[0m\u001b[0m\n\u001b[0m",
      "\u001b[0;31mTypeError\u001b[0m: func() missing 1 required positional argument: 'param'"
     ]
    }
   ],
   "source": [
    "# 必须参数\n",
    "def func(param):\n",
    "    print(param)\n",
    "    \n",
    "func(1)\n",
    "func()"
   ]
  },
  {
   "cell_type": "code",
   "execution_count": 6,
   "metadata": {},
   "outputs": [
    {
     "name": "stdout",
     "output_type": "stream",
     "text": [
      "1 2 3\n",
      "1 2 3\n",
      "1 2 3\n"
     ]
    }
   ],
   "source": [
    "# 关键字参数\n",
    "def func(param1, param2, param3):\n",
    "    print(param1, param2, param3)\n",
    "\n",
    "func(param1=1, param2=2, param3=3)\n",
    "func(param3=3, param2=2, param1=1)\n",
    "func(1, 2, param3=3)\n",
    "# 执行下面这行代码会报错\n",
    "# SyntaxError: positional argument follows keyword argument\n",
    "# func(1, param2=2, 3)"
   ]
  },
  {
   "cell_type": "code",
   "execution_count": 7,
   "metadata": {},
   "outputs": [
    {
     "name": "stdout",
     "output_type": "stream",
     "text": [
      "0\n",
      "1\n"
     ]
    }
   ],
   "source": [
    "# 默认参数\n",
    "def func(param=0):\n",
    "    print(param)\n",
    "    \n",
    "func()\n",
    "func(1)"
   ]
  },
  {
   "cell_type": "code",
   "execution_count": 8,
   "metadata": {},
   "outputs": [
    {
     "name": "stdout",
     "output_type": "stream",
     "text": [
      "1\n",
      "(2, 3, 4)\n",
      "{'a': 5, 'b': 6, 'c': 7}\n"
     ]
    }
   ],
   "source": [
    "# 不定长参数\n",
    "def func(param, *args, **kwargs):\n",
    "    print(param)\n",
    "    print(args)       # tuple\n",
    "    print(kwargs)   # dict\n",
    "    \n",
    "func(1, 2, 3, 4, a=5, b=6, c=7)"
   ]
  },
  {
   "cell_type": "code",
   "execution_count": 14,
   "metadata": {},
   "outputs": [
    {
     "name": "stdout",
     "output_type": "stream",
     "text": [
      "10\n"
     ]
    }
   ],
   "source": [
    "# 如果单独出现星号 * 后的参数必须用关键字传入。\n",
    "def f(a, b, *, c, d): \n",
    "    print(a + b + c + d)\n",
    "\n",
    "f(1, 2, c=3, d=4)\n",
    "# 执行下面这行代码会报错\n",
    "# TypeError: f() takes 2 positional arguments but 3 were given\n",
    "# f(1, 2, 3, 4)"
   ]
  },
  {
   "cell_type": "markdown",
   "metadata": {},
   "source": [
    "1.9.3 匿名函数"
   ]
  },
  {
   "cell_type": "code",
   "execution_count": 17,
   "metadata": {},
   "outputs": [
    {
     "name": "stdout",
     "output_type": "stream",
     "text": [
      "[9 1 1 9]\n"
     ]
    }
   ],
   "source": [
    "import numpy as np\n",
    "\n",
    "loss_function = lambda y, pred: (y - pred) ** 2\n",
    "\n",
    "a = np.array([1, 2, 3, 4])\n",
    "b = np.array([4, 3, 2, 1])\n",
    "print(loss_function(a, b))"
   ]
  },
  {
   "cell_type": "code",
   "execution_count": 20,
   "metadata": {},
   "outputs": [
    {
     "name": "stdout",
     "output_type": "stream",
     "text": [
      "(2, 3, 4)\n"
     ]
    }
   ],
   "source": [
    "# 想要返回多个值时，需要手动封装成 tuple\n",
    "add_one = lambda a, b, c: (a + 1, b + 1, c + 1)\n",
    "\n",
    "print(add_one(1, b=2, c=3))"
   ]
  },
  {
   "cell_type": "markdown",
   "metadata": {},
   "source": [
    "1.9.4 函数注解"
   ]
  },
  {
   "cell_type": "code",
   "execution_count": 29,
   "metadata": {},
   "outputs": [
    {
     "name": "stdout",
     "output_type": "stream",
     "text": [
      "Do\n",
      "Do not go\n",
      "Do not go gentle into that good night.\n",
      "{'text': <class 'str'>, 'max_len': 'int > 0', 'return': <class 'str'>}\n"
     ]
    },
    {
     "ename": "TypeError",
     "evalue": "object of type 'int' has no len()",
     "output_type": "error",
     "traceback": [
      "\u001b[0;31m---------------------------------------------------------------------------\u001b[0m",
      "\u001b[0;31mTypeError\u001b[0m                                 Traceback (most recent call last)",
      "\u001b[0;32m<ipython-input-29-707958cf138f>\u001b[0m in \u001b[0;36m<module>\u001b[0;34m\u001b[0m\n\u001b[1;32m     35\u001b[0m \u001b[0;31m# 注解对 python 解释器没任何意义\u001b[0m\u001b[0;34m\u001b[0m\u001b[0;34m\u001b[0m\u001b[0;34m\u001b[0m\u001b[0m\n\u001b[1;32m     36\u001b[0m \u001b[0;31m# 参数类型不正确或返回类型不正确时，不会报错\u001b[0m\u001b[0;34m\u001b[0m\u001b[0;34m\u001b[0m\u001b[0;34m\u001b[0m\u001b[0m\n\u001b[0;32m---> 37\u001b[0;31m \u001b[0mprint\u001b[0m\u001b[0;34m(\u001b[0m\u001b[0mclip\u001b[0m\u001b[0;34m(\u001b[0m\u001b[0;36m1\u001b[0m\u001b[0;34m,\u001b[0m \u001b[0;36m3.14\u001b[0m\u001b[0;34m)\u001b[0m\u001b[0;34m)\u001b[0m\u001b[0;34m\u001b[0m\u001b[0;34m\u001b[0m\u001b[0m\n\u001b[0m",
      "\u001b[0;32m<ipython-input-29-707958cf138f>\u001b[0m in \u001b[0;36mclip\u001b[0;34m(text, max_len)\u001b[0m\n\u001b[1;32m      8\u001b[0m     \"\"\"\n\u001b[1;32m      9\u001b[0m     \u001b[0mend\u001b[0m \u001b[0;34m=\u001b[0m \u001b[0;32mNone\u001b[0m\u001b[0;34m\u001b[0m\u001b[0;34m\u001b[0m\u001b[0m\n\u001b[0;32m---> 10\u001b[0;31m     \u001b[0;32mif\u001b[0m \u001b[0mlen\u001b[0m\u001b[0;34m(\u001b[0m\u001b[0mtext\u001b[0m\u001b[0;34m)\u001b[0m \u001b[0;34m>\u001b[0m \u001b[0mmax_len\u001b[0m\u001b[0;34m:\u001b[0m\u001b[0;34m\u001b[0m\u001b[0;34m\u001b[0m\u001b[0m\n\u001b[0m\u001b[1;32m     11\u001b[0m         \u001b[0;31m# 计算前 max_len 个字符中，最后一次出现空格的位置\u001b[0m\u001b[0;34m\u001b[0m\u001b[0;34m\u001b[0m\u001b[0;34m\u001b[0m\u001b[0m\n\u001b[1;32m     12\u001b[0m         \u001b[0mspace_before\u001b[0m \u001b[0;34m=\u001b[0m \u001b[0mtext\u001b[0m\u001b[0;34m.\u001b[0m\u001b[0mrfind\u001b[0m\u001b[0;34m(\u001b[0m\u001b[0;34m' '\u001b[0m\u001b[0;34m,\u001b[0m \u001b[0;36m0\u001b[0m\u001b[0;34m,\u001b[0m \u001b[0mmax_len\u001b[0m\u001b[0;34m)\u001b[0m\u001b[0;34m\u001b[0m\u001b[0;34m\u001b[0m\u001b[0m\n",
      "\u001b[0;31mTypeError\u001b[0m: object of type 'int' has no len()"
     ]
    }
   ],
   "source": [
    "def clip(text: str, max_len: 'int > 0' = 80) -> str:\n",
    "    \"\"\"\n",
    "    在 max_len 前面或后面的第一个空格处截断文本\n",
    "\n",
    "    :param text:           输入文本\n",
    "    :param max_len:     最大长度\n",
    "    :return:                  截断后文本\n",
    "    \"\"\"\n",
    "    end = None\n",
    "    if len(text) > max_len:\n",
    "        # 计算前 max_len 个字符中，最后一次出现空格的位置\n",
    "        space_before = text.rfind(' ', 0, max_len)\n",
    "        if space_before >= 0:\n",
    "            # 记录前 max_len 个字符中，最后一次出现空格的位置\n",
    "            end = space_before\n",
    "        else:\n",
    "            # 计算前 max_len 个字符后面的第一个空格的位置\n",
    "            space_after = text.find(' ', max_len)\n",
    "            # 记录前 max_len 个字符后面的第一个空格的位置\n",
    "            if space_after >= 0:\n",
    "                end = space_after\n",
    "    # 没找到空格\n",
    "    if end is None:\n",
    "        end = len(text)\n",
    "    # rstrip() 删除末尾指定字符，默认为空格\n",
    "    return text[:end].rstrip()\n",
    "\n",
    "sentence = \"Do not go gentle into that good night. \"\n",
    "print(clip(sentence, max_len=2))\n",
    "print(clip(sentence, max_len=16))\n",
    "print(clip(sentence))\n",
    "\n",
    "print(clip.__annotations__)\n",
    "\n",
    "# 注解对 python 解释器没任何意义\n",
    "# 参数类型不正确或返回类型不正确时，不会报错\n",
    "print(clip(1, 3.14))"
   ]
  },
  {
   "cell_type": "code",
   "execution_count": 30,
   "metadata": {},
   "outputs": [
    {
     "ename": "AssertionError",
     "evalue": "",
     "output_type": "error",
     "traceback": [
      "\u001b[0;31m---------------------------------------------------------------------------\u001b[0m",
      "\u001b[0;31mAssertionError\u001b[0m                            Traceback (most recent call last)",
      "\u001b[0;32m<ipython-input-30-bf300884fe03>\u001b[0m in \u001b[0;36m<module>\u001b[0;34m\u001b[0m\n\u001b[1;32m     31\u001b[0m \u001b[0;34m\u001b[0m\u001b[0m\n\u001b[1;32m     32\u001b[0m \u001b[0msentence\u001b[0m \u001b[0;34m=\u001b[0m \u001b[0;34m\"Do not go gentle into that good night. \"\u001b[0m\u001b[0;34m\u001b[0m\u001b[0;34m\u001b[0m\u001b[0m\n\u001b[0;32m---> 33\u001b[0;31m \u001b[0mprint\u001b[0m\u001b[0;34m(\u001b[0m\u001b[0mclip\u001b[0m\u001b[0;34m(\u001b[0m\u001b[0msentence\u001b[0m\u001b[0;34m,\u001b[0m \u001b[0;34m-\u001b[0m\u001b[0;36m1\u001b[0m\u001b[0;34m)\u001b[0m\u001b[0;34m)\u001b[0m\u001b[0;34m\u001b[0m\u001b[0;34m\u001b[0m\u001b[0m\n\u001b[0m",
      "\u001b[0;32m<ipython-input-30-bf300884fe03>\u001b[0m in \u001b[0;36mclip\u001b[0;34m(text, max_len)\u001b[0m\n\u001b[1;32m      9\u001b[0m     \"\"\"\n\u001b[1;32m     10\u001b[0m     \u001b[0;32massert\u001b[0m \u001b[0mtype\u001b[0m\u001b[0;34m(\u001b[0m\u001b[0mtext\u001b[0m\u001b[0;34m)\u001b[0m \u001b[0;32mis\u001b[0m \u001b[0mstr\u001b[0m\u001b[0;34m\u001b[0m\u001b[0;34m\u001b[0m\u001b[0m\n\u001b[0;32m---> 11\u001b[0;31m     \u001b[0;32massert\u001b[0m \u001b[0mtype\u001b[0m\u001b[0;34m(\u001b[0m\u001b[0mmax_len\u001b[0m\u001b[0;34m)\u001b[0m \u001b[0;32mis\u001b[0m \u001b[0mint\u001b[0m \u001b[0;32mand\u001b[0m \u001b[0mmax_len\u001b[0m \u001b[0;34m>\u001b[0m \u001b[0;36m0\u001b[0m\u001b[0;34m\u001b[0m\u001b[0;34m\u001b[0m\u001b[0m\n\u001b[0m\u001b[1;32m     12\u001b[0m \u001b[0;34m\u001b[0m\u001b[0m\n\u001b[1;32m     13\u001b[0m     \u001b[0mend\u001b[0m \u001b[0;34m=\u001b[0m \u001b[0;32mNone\u001b[0m\u001b[0;34m\u001b[0m\u001b[0;34m\u001b[0m\u001b[0m\n",
      "\u001b[0;31mAssertionError\u001b[0m: "
     ]
    }
   ],
   "source": [
    "# 为了完善函数注解，我们进一步使用断言\n",
    "def clip(text: str, max_len: 'int > 0' = 80) -> str:\n",
    "    \"\"\"\n",
    "    在 max_len 前面或后面的第一个空格处截断文本\n",
    "\n",
    "    :param text:           输入文本\n",
    "    :param max_len:     最大长度\n",
    "    :return:                  截断后文本\n",
    "    \"\"\"\n",
    "    assert type(text) is str\n",
    "    assert type(max_len) is int and max_len > 0\n",
    "\n",
    "    end = None\n",
    "    if len(text) > max_len:\n",
    "        # 计算前 max_len 个字符中，最后一次出现空格的位置\n",
    "        space_before = text.rfind(' ', 0, max_len)\n",
    "        if space_before >= 0:\n",
    "            # 记录前 max_len 个字符中，最后一次出现空格的位置\n",
    "            end = space_before\n",
    "        else:\n",
    "            # 计算前 max_len 个字符后面的第一个空格的位置\n",
    "            space_after = text.find(' ', max_len)\n",
    "            # 记录前 max_len 个字符后面的第一个空格的位置\n",
    "            if space_after >= 0:\n",
    "                end = space_after\n",
    "    # 没找到空格\n",
    "    if end is None:\n",
    "        end = len(text)\n",
    "    # rstrip() 删除末尾指定字符，默认为空格\n",
    "    return text[:end].rstrip()\n",
    "\n",
    "sentence = \"Do not go gentle into that good night. \"\n",
    "print(clip(sentence, -1))"
   ]
  },
  {
   "cell_type": "markdown",
   "metadata": {},
   "source": [
    "彩蛋"
   ]
  },
  {
   "cell_type": "code",
   "execution_count": 31,
   "metadata": {},
   "outputs": [
    {
     "name": "stdout",
     "output_type": "stream",
     "text": [
      "8.0\n"
     ]
    }
   ],
   "source": [
    "# 假设我们在训练模型时，需要用到多个代价函数，且这些代价函数的切换由一个 boolean 变量控制\n",
    "# 我们可以使用 lambda 表达式来简化我们的代码\n",
    "import numpy as np\n",
    "# 定义 MSE 与 RMSE（不使用 lambda 表达式也可以：实现某些复杂逻辑时，我们需要用传统的 def 来代替 lambda）\n",
    "mse = lambda lhs, rhs: np.average(np.square(lhs - rhs))\n",
    "rmse = lambda lhs, rhs: np.sqrt(mse(lhs, rhs))\n",
    "# 定义代价函数\n",
    "use_mse = True\n",
    "loss = mse if use_mse else rmse\n",
    "# 另一种写法\n",
    "# loss = (use_mse and mse) or rmse\n",
    "# 定义观察值和预测值\n",
    "y = np.array([1, 2, 3, 4, 5])\n",
    "pred = np.array([5, 4, 3, 2, 1])\n",
    "# 输出 loss\n",
    "print(loss(y, pred))"
   ]
  },
  {
   "cell_type": "code",
   "execution_count": null,
   "metadata": {},
   "outputs": [],
   "source": []
  }
 ],
 "metadata": {
  "kernelspec": {
   "display_name": "Python 3",
   "language": "python",
   "name": "python3"
  },
  "language_info": {
   "codemirror_mode": {
    "name": "ipython",
    "version": 3
   },
   "file_extension": ".py",
   "mimetype": "text/x-python",
   "name": "python",
   "nbconvert_exporter": "python",
   "pygments_lexer": "ipython3",
   "version": "3.7.2"
  }
 },
 "nbformat": 4,
 "nbformat_minor": 2
}
